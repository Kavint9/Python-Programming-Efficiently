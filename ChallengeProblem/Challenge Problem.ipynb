{
 "cells": [
  {
   "cell_type": "code",
   "execution_count": 11,
   "metadata": {},
   "outputs": [],
   "source": [
    "import collections"
   ]
  },
  {
   "cell_type": "code",
   "execution_count": 12,
   "metadata": {},
   "outputs": [],
   "source": [
    "medal = collections.namedtuple('medal', ['year', 'athlete', 'team', 'event'])\n",
    "medals = [medal(*line.strip('\\n').split('\\t'))for line in open('goldmedals.txt', 'r')]"
   ]
  },
  {
   "cell_type": "code",
   "execution_count": 13,
   "metadata": {},
   "outputs": [
    {
     "name": "stdout",
     "output_type": "stream",
     "text": [
      "No. of records in medals is 1287\n"
     ]
    },
    {
     "data": {
      "text/plain": [
       "'No. of records in file is 1287'"
      ]
     },
     "execution_count": 13,
     "metadata": {},
     "output_type": "execute_result"
    }
   ],
   "source": [
    "print('No. of records in medals is {0}'.format(len(medals)))\n",
    "count = 0\n",
    "for line in open('goldmedals.txt','r'):\n",
    "    count += 1\n",
    "f\"No. of records in file is {count}\""
   ]
  },
  {
   "cell_type": "code",
   "execution_count": 14,
   "metadata": {},
   "outputs": [
    {
     "data": {
      "text/plain": [
       "[medal(year='1896', athlete='Thomas Burke', team='USA', event='100m men'),\n",
       " medal(year='1896', athlete='Thomas Curtis', team='USA', event='110m hurdles men'),\n",
       " medal(year='1896', athlete='Edwin Flack', team='AUS', event='1500m men'),\n",
       " medal(year='1896', athlete='Thomas Burke', team='USA', event='400m men'),\n",
       " medal(year='1896', athlete='Edwin Flack', team='AUS', event='800m men'),\n",
       " medal(year='1896', athlete='Robert Garrett', team='USA', event='discus throw men'),\n",
       " medal(year='1896', athlete='Ellery Clark', team='USA', event='high jump men'),\n",
       " medal(year='1896', athlete='Ellery Clark', team='USA', event='long jump men'),\n",
       " medal(year='1896', athlete='Spyridon Louis', team='GRE', event='marathon men'),\n",
       " medal(year='1896', athlete='William Welles Hoyt', team='USA', event='pole vault men')]"
      ]
     },
     "execution_count": 14,
     "metadata": {},
     "output_type": "execute_result"
    }
   ],
   "source": [
    "medals[:10]"
   ]
  },
  {
   "cell_type": "markdown",
   "metadata": {},
   "source": [
    "**Challenge 1:**  \n",
    "Find 5 athletes who have won the most medals"
   ]
  },
  {
   "cell_type": "code",
   "execution_count": 15,
   "metadata": {},
   "outputs": [
    {
     "data": {
      "text/plain": [
       "[('Paavo Nurmi', 9),\n",
       " ('Carl Lewis', 9),\n",
       " ('Usain Bolt', 9),\n",
       " ('Ray Ewry', 8),\n",
       " ('Allyson Felix', 6)]"
      ]
     },
     "execution_count": 15,
     "metadata": {},
     "output_type": "execute_result"
    }
   ],
   "source": [
    "medal_count = collections.Counter(medal.athlete for medal in medals)\n",
    "medal_count.most_common(5)"
   ]
  },
  {
   "cell_type": "markdown",
   "metadata": {},
   "source": [
    "**Challenge 2:**  \n",
    "Find 5 athletes who won gold medals in the largest number of different events"
   ]
  },
  {
   "cell_type": "code",
   "execution_count": 21,
   "metadata": {},
   "outputs": [
    {
     "name": "stdout",
     "output_type": "stream",
     "text": [
      "defaultdict(<class 'set'>, {'Thomas Burke': {'400m', '100m'}, 'Thomas Curtis': {'110m hurdles'}, 'Edwin Flack': {'800m', '1500m'}, 'Robert Garrett': {'shot put', 'discus throw'}, 'Ellery Clark': {'long jump', 'high jump'}, 'Spyridon Louis': {'marathon'}, 'William Welles Hoyt': {'pole vault'}, 'James Connolly': {'triple jump'}, 'Francis Jarvis': {'100m'}, 'Alvin Kraenzlein': {'60m', '110m hurdles', '200m hurdles', 'long jump'}, 'Charles Bennett': {'5000m team', '1500m'}, 'Walter B. John Tewksbury': {'400m hurdles', '200m'}, 'George Orton': {'3000m steeplechase'}, 'John Rimmer': {'5000m team', '4000m steeplechase'}, 'Maxwell W.Maxey Long': {'400m'}, 'Sidney Robinson': {'5000m team'}, 'Stanley Rowley': {'5000m team'}, 'Alfred Tysoe': {'5000m team', '800m'}, 'Rudolf Bauer': {'discus throw'}, 'John Jesus Flanagan': {'hammer throw'}, 'Irving Baxter': {'pole vault', 'high jump'}, 'Ray Ewry': {'triple jump, standing', 'long jump, standing', 'high jump, standing'}, 'Michel Theato': {'marathon'}, 'Richard Sheldon': {'shot put'}, 'Meyer Prinstein': {'long jump', 'triple jump'}, 'Archie Hahn': {'60m', '200m', '100m'}, 'Frederick Schule': {'110m hurdles'}, 'James Lightbody': {'800m', '1500m', '3000m steeplechase'}, 'Harry Hillman': {'400m hurdles', '400m', '200m hurdles'}, 'David Curtis Munson': {'4miles team'}, 'Arthur Newton': {'4miles team'}, 'Paul Harry Pilgrim': {'4miles team'}, 'George Underwood': {'4miles team'}, 'Howard Valentine': {'4miles team'}, 'Etienne Desmarteau': {'56lb weight throw (25.4kg)'}, 'Thomas Francis Kiely': {'decathlon'}, 'Martin Sheridan': {'discus throw ancient style', 'discus throw'}, 'Samuel Jones': {'high jump'}, 'Thomas Hicks': {'marathon'}, 'Charles Dvorak': {'pole vault'}, 'Ralph Rose': {'shot put', 'shot put, both hands'}, 'Max Emmerich': {'triathlon (long jump / shot put / 100 yards)'}, 'Reginald Walker': {'100m'}, 'George Edward Larner': {'10miles walk (16093m)', '3500m walk'}, 'Forrest Smithson': {'110m hurdles'}, 'Melvin Sheppard': {'4x400m relay', '800m', '1500m'}, 'Robert Kerr': {'200m'}, 'Arthur Russell': {'3200m steeplechase'}, 'William Coales': {'3miles team (4828m)'}, 'Joseph Edmund Deakin': {'3miles team (4828m)'}, 'Arthur James Robertson': {'3miles team (4828m)'}, 'Wyndham Halswelle': {'400m'}, 'Charles Joseph Bacon': {'400m hurdles'}, 'John Nathaniel Cartmell': {'4x400m relay'}, 'William Frank Hamilton': {'4x400m relay'}, 'John Baxter Taylor': {'4x400m relay'}, 'Emil Robert Voigt': {'5 miles (8047m)'}, 'Harry Franklin Porter': {'high jump'}, 'Eric Lemming': {'javelin throw freestyle', 'javelin throw'}, 'Francis C. Irons': {'long jump'}, 'John Joseph Hayes': {'marathon'}, 'Edward Tiffin Cooke': {'pole vault'}, 'Alfred Carleten Gilbert': {'pole vault'}, 'Timoty J. Ahearne': {'triple jump'}, 'Hannes Kolehmainen': {'5000m', 'marathon', 'cross country individual', '10000m'}, 'George Goulding': {'10000m walk'}, 'Ralph Craig': {'200m', '100m'}, 'Frederick Kelly': {'110m hurdles'}, 'Arnold Jackson': {'1500m'}, 'Tell Schirnding Berna': {'3000m team'}, 'George V. Bonhag': {'3000m team'}, 'Abel Kiviat': {'3000m team'}, 'Henry Louis Scott': {'3000m team'}, 'Norman Taber': {'3000m team'}, 'Charles Decker Reidpath': {'4x400m relay', '400m'}, 'William Applegarth': {'4x100m relay'}, \"Victor Henry Augustus D'arcy\": {'4x100m relay'}, 'David Henry Jacobs': {'4x100m relay'}, 'Henry Maitland Mackintosh': {'4x100m relay'}, 'Edward F. Lindberg': {'4x400m relay'}, 'James Edwin Meredith': {'4x400m relay', '800m'}, 'Hjalmar Andersson': {'cross country team'}, 'John Eke': {'cross country team'}, 'Josef TernstrÃ¶m': {'cross country team'}, 'Jim Thorpe': {'decathlon', 'pentathlon'}, 'Hugo K. Wieslander': {'decathlon'}, 'Armas Rudolf Taipale': {'discus throw, both hands', 'discus throw'}, 'Matthew J. Mcgrath': {'hammer throw'}, 'Alma Wilfred Richards': {'high jump'}, 'Platt Adams': {'high jump, standing'}, 'Juho Julius Saaristo': {'javelin throw, both hands'}, 'Albert Lovejoy Gutterson': {'long jump'}, 'Konstantinos Tsiclitiras': {'long jump, standing'}, 'Kennedy Kane Mcarthur': {'marathon'}, 'Ferdinand Reinhardt Bie': {'pentathlon'}, 'Harry Stoddard Babcock': {'pole vault'}, 'Patrick Mcdonald': {'shot put', '56lb weight throw (25.4kg)'}, 'Gustav Lindblom': {'triple jump'}, 'Paavo Nurmi': {'cross country individual', '1500m', '10000m', 'cross country team', '3000m team', '5000m'}, 'Ugo Frigerio': {'10000m walk', '3000m walk'}, 'Charles Paddock': {'100m', '4x100m relay'}, 'Earl Thomson': {'110m hurdles'}, 'Albert Hill': {'800m', '1500m'}, 'Allen Woodring': {'200m'}, 'Percy Hodge': {'3000m steeplechase'}, 'Horace Hallock Brown': {'3000m team'}, 'Ivan Dresser': {'3000m team'}, 'Arlie Alfred Schardt': {'3000m team'}, \"Bevil Gordon D'Urban Rudd\": {'400m'}, 'Frank Loomis': {'400m hurdles'}, 'Morris Kirksey': {'4x100m relay'}, 'Loren Murchison': {'4x100m relay'}, 'Jackson Scholz': {'200m', '4x100m relay'}, 'John Creyghton Ainsworth-Davis': {'4x400m relay'}, 'Guy Montagu Butler': {'4x400m relay'}, 'Cecil Richmond Griffiths': {'4x400m relay'}, 'Robert Alexander Lindsay': {'4x400m relay'}, 'Joseph Guillemot': {'5000m'}, 'Frederik Teudor Koskenniemi': {'cross country team'}, 'Heikki Liimatainen': {'cross country team'}, 'Helge Andreas LÃ¶vland': {'decathlon'}, 'Elmer Konstantin Niklander': {'discus throw'}, 'Patrick Ryan': {'hammer throw'}, 'Richmond Landon': {'high jump'}, 'Jonni MyyrÃ¤': {'javelin throw'}, 'R. William E. Petersson': {'long jump'}, 'Eero Reino Lehtonen': {'pentathlon'}, 'Frank Foss': {'pole vault'}, 'Frans Wilhelmi PÃ¶rhÃ¶lÃ¤': {'shot put'}, 'Vilho Immanuel Tuulos': {'triple jump'}, 'Ville Ritola': {'10000m', 'cross country team', '3000m team', '5000m', '3000m steeplechase'}, 'Harold Abrahams': {'100m'}, 'Daniel Kinsey': {'110m hurdles'}, 'Elias Katz': {'3000m team'}, 'Frej Liewendhal': {'3000m team'}, 'Eino SeppÃ¤lÃ¤': {'3000m team'}, 'S. Talja': {'3000m team'}, 'Eric Henry Liddell': {'400m'}, 'Frederick Morgan Taylor': {'400m hurdles'}, 'Louis Alfred Clarke': {'4x100m relay'}, 'Francis Hussey': {'4x100m relay'}, 'Jeremiah Alfred Leconey': {'4x100m relay'}, 'Commodore Cochrane': {'4x400m relay'}, 'Alan Helffrich': {'4x400m relay'}, 'J. Oliver Macdonald': {'4x400m relay'}, 'William Stephenson': {'4x400m relay'}, 'Douglas Gordon Lowe': {'800m'}, 'Eero Berg': {'cross country team'}, 'Eino Rastas': {'cross country team'}, 'VÃ¤inÃ¶ Jeremias SipilÃ¤': {'cross country team'}, 'Harold Marion Osborn': {'decathlon', 'high jump'}, 'Lemuel Clarence Houser': {'shot put', 'discus throw'}, 'Frederick Delmont Tootell': {'hammer throw'}, 'William De Hart Hubbard': {'long jump'}, 'Albin Oskar Stenroos': {'marathon'}, 'Lee Barnes': {'pole vault'}, 'Anthony William Winter': {'triple jump'}, 'Percy Williams': {'200m', '100m'}, 'Elizabeth Robinson': {'100m', '4x100m relay'}, 'Sidney Atkinson': {'110m hurdles'}, 'Harri Edvin Larva': {'1500m'}, 'Toivo Aarne Loukola': {'3000m steeplechase'}, 'Raymond James Barbuti': {'4x400m relay', '400m'}, 'David George Burghley': {'400m hurdles'}, 'Charles Edward Borah': {'4x100m relay'}, 'James F. Quinn': {'4x100m relay'}, 'Henry Argue Russell': {'4x100m relay'}, 'Frank Clifford Wykoff': {'4x100m relay'}, 'Myrtle Alice Cook': {'4x100m relay'}, 'Fanny Rosenfeld': {'4x100m relay'}, 'Ethel M. Smith': {'4x100m relay'}, 'Jean Thompson': {'4x100m relay'}, 'Frederick Pitt Alderman': {'4x400m relay'}, 'George Hetzel Baird': {'4x400m relay'}, 'Emerson Lane Spencer': {'4x400m relay'}, 'Karoline \"Lina\" Radke': {'800m'}, 'Paavo Ilmari YrjÃ¶lÃ¤': {'decathlon'}, 'Halina Konopacka': {'discus throw'}, \"Patrick O'callaghan\": {'hammer throw'}, 'Robert Wade King': {'high jump'}, 'Ethel Catherwood': {'high jump'}, 'Erik H. Lundqvist': {'javelin throw'}, 'Edward Barton Hamm': {'long jump'}, 'Boughera Mohamed El Ouafi': {'marathon'}, 'Sabin William Carr': {'pole vault'}, 'John H. Kuck': {'shot put'}, 'Mikio Oda': {'triple jump'}, 'Janusz Kusocinski': {'10000m'}, 'Eddie Tolan': {'200m', '100m'}, 'Stanislawa Walasiewicz': {'100m'}, 'George J. Jr. Saling': {'110m hurdles'}, 'Luigi Beccali': {'1500m'}, 'Volmari Iso-Hollo': {'3000m steeplechase'}, 'William Arthur Carr': {'4x400m relay', '400m'}, 'Robert Morton Newburgh Tisdall': {'400m hurdles'}, 'Hector Monroe Dyer': {'4x100m relay'}, 'Robert Allan Kiesel': {'4x100m relay'}, 'Martin Emmett Toppino': {'4x100m relay'}, 'Mary Louise Carew': {'4x100m relay'}, 'Evelyn Furtsch': {'4x100m relay'}, 'Annette Joan Rogers': {'4x100m relay'}, 'Wilhelmina Von bremen': {'4x100m relay'}, 'Edgar Allen Ablowich': {'4x400m relay'}, 'Ivan William Fuqua': {'4x400m relay'}, 'Karl De Witt Warner': {'4x400m relay'}, 'Lauri Aleksanteri Lehtinen': {'5000m'}, 'Thomas William Green': {'50km walk'}, 'Thomas Hampson': {'800m'}, 'Mildred Didrikson': {'80m hurdles', 'javelin throw'}, 'James Aloysius Bernard Bausch': {'decathlon'}, 'John Franklin Anderson': {'discus throw'}, 'Lillian Copeland': {'discus throw'}, 'Duncan Mcnaughton': {'high jump'}, 'Jean Shiley': {'high jump'}, 'Matti Henrik Jarvinen': {'javelin throw'}, 'Edward Lansing Gordon': {'long jump'}, 'Juan Carlos Zabala': {'marathon'}, 'William Waring Miller': {'pole vault'}, 'Leo Joseph Sexton': {'shot put'}, 'Chuhei Nambu': {'triple jump'}, 'Ilmari Salminen': {'10000m'}, 'Jesse Owens': {'200m', '100m', '4x100m relay', 'long jump'}, 'Helen Herring Stephens': {'100m', '4x100m relay'}, 'Forrest Grady Towns': {'110m hurdles'}, 'John Lovelock': {'1500m'}, 'Archibald Franklin Williams': {'400m'}, 'Glenn Foster Hardin': {'400m hurdles'}, 'Foy Draper': {'4x100m relay'}, 'Ralph Metcalfe': {'4x100m relay'}, 'Harriett Claiborne Bland': {'4x100m relay'}, 'Arthur Godfrey Kilner Brown': {'4x400m relay'}, 'Godfrey Lionel Rampling': {'4x400m relay'}, 'William Roberts': {'4x400m relay'}, 'Frederick Ferdinand Wolff': {'4x400m relay'}, 'Gunnar HÃ¶ckert': {'5000m'}, 'Hector Harold Whitlock': {'50km walk'}, 'John Youie Woodruff': {'800m'}, 'Trebisonda Valla': {'80m hurdles'}, 'Glenn Edward Morris': {'decathlon'}, 'William Kenneth Carpenter': {'discus throw'}, 'Gisela Mauermayer': {'discus throw'}, 'Karl Hein': {'hammer throw'}, 'Cornelius Cooper Johnson': {'high jump'}, 'Ibolya Csak': {'high jump'}, 'Gerhard (Gerd) StÃ¶ck': {'javelin throw'}, 'Mathilde (Tilly) Fleischer': {'javelin throw'}, 'Kitei Son': {'marathon'}, 'Earle Elmer Meadows': {'pole vault'}, 'Hans Woellke': {'shot put'}, 'Naoto Tajima': {'triple jump'}, 'Emil Zatopek': {'5000m', 'marathon', '10000m'}, 'John Mikaelsson': {'10000m walk'}, 'Harrison Dillard': {'110m hurdles', '100m', '4x100m relay'}, 'Fanny Blankers-Koen': {'200m', '100m', '4x100m relay', '80m hurdles'}, 'William Franklin III Porter': {'110m hurdles'}, 'Henry Eriksson': {'1500m'}, 'Melvin Emery Patton': {'200m', '4x100m relay'}, 'Tore SjÃ¶strand': {'3000m steeplechase'}, 'Arthur Wint': {'4x400m relay', '400m'}, 'Roy Braxton Cochran': {'400m hurdles', '4x400m relay'}, 'Harold Norwood Ewell': {'4x100m relay'}, 'Lorenzo Christopher Wright': {'4x100m relay'}, 'Xenia Stad-De jong': {'4x100m relay'}, 'Gerda Johanna Marie Van der kade-Koudijs': {'4x100m relay'}, 'Jeannette Josephina Maria Witziers-Timmer': {'4x100m relay'}, 'Clifford Frederick Bourland': {'4x400m relay'}, 'Arthur Harold Harnden': {'4x400m relay'}, 'Malvin Groston Whitfield': {'4x400m relay', '800m'}, 'Gaston Etienne Reiff': {'5000m'}, 'John Artur Ljunggren': {'50km walk'}, 'Robert Mathias': {'decathlon'}, 'Adolfo Consolini': {'discus throw'}, 'Micheline Ostermeyer': {'shot put', 'discus throw'}, 'Imre Nemeth': {'hammer throw'}, 'John Winter': {'high jump'}, 'Alice Marie Coachman': {'high jump'}, 'Kaj Tapio Rautavaara': {'javelin throw'}, 'Hermine (Herma) Bauma': {'javelin throw'}, 'William Samuel Steele': {'long jump'}, 'Olga Gyarmati': {'long jump'}, 'Delfo Cabrera': {'marathon'}, 'Owen Guinn Smith': {'pole vault'}, 'Wilbur Marvin Thompson': {'shot put'}, 'Arne Ahman': {'triple jump'}, 'Lindy Remigino': {'100m', '4x100m relay'}, 'Marjorie Jackson': {'200m', '100m'}, 'Joseph Barthel': {'1500m'}, 'Andrew William Stanfield': {'200m', '4x100m relay'}, 'Horace III Ashenfelter': {'3000m steeplechase'}, 'Vincent George Rhoden': {'4x400m relay', '400m'}, 'Charles Hewes Jr. Moore': {'400m hurdles'}, 'Finis Dean Smith': {'4x100m relay'}, 'Mae Heriwentha Faggs': {'4x100m relay'}, 'Catherine Hardy': {'4x100m relay'}, 'Barbara Pearl Jones': {'4x100m relay'}, 'Janet Theresa Moreau': {'4x100m relay'}, 'Leslie Laing': {'4x400m relay'}, 'Herbert Mckenley': {'4x400m relay'}, 'Giuseppe Dordoni': {'50km walk'}, 'Shirley Strickland-De La Hunty': {'80m hurdles', '4x100m relay'}, 'Simeon Garland Iness': {'discus throw'}, 'Nina Romashkova-Ponomareva': {'discus throw'}, 'Jozsef Csermak': {'hammer throw'}, 'Walter Francis Davis': {'high jump'}, 'Esther Cornelia Brand': {'high jump'}, 'Cyrus C. Jr. Young': {'javelin throw'}, 'Dana Ingrova-Zatopkova': {'javelin throw'}, 'Jerome Cousins Biffle': {'long jump'}, 'Yvette Winefred Williams': {'long jump'}, 'Robert Richards': {'pole vault'}, 'William Patrick Jr. O': {'shot put'}, 'Galina Zybina': {'shot put'}, 'Adhemar Ferreira Da Silva': {'triple jump'}, 'Vladimir Kuts': {'5000m', '10000m'}, 'Robert Joseph Morrow': {'200m', '100m', '4x100m relay'}, 'Betty Cuthbert': {'200m', '100m', '4x100m relay', '400m'}, 'Lee Calhoun': {'110m hurdles'}, 'Ronald Michael Delany': {'1500m'}, 'Leonid Spirin': {'20km walk'}, 'Christopher William Brasher': {'3000m steeplechase'}, 'Charles Lamont Jenkins': {'4x400m relay', '400m'}, 'Glenn Ashby Davis': {'400m hurdles', '4x400m relay'}, 'Walter Thane Baker': {'4x100m relay'}, 'Leamon King': {'4x100m relay'}, 'Ira James Murchison': {'4x100m relay'}, 'Norma Wilson Crooker-Fleming': {'4x100m relay'}, 'Fluer Northey Mellor-Wenham': {'4x100m relay'}, 'Thomas William Courtney': {'4x400m relay', '800m'}, 'Louis Woodard III Jones': {'4x400m relay'}, 'Jesse William Mashburn': {'4x400m relay'}, 'Norman Richard Read': {'50km walk'}, 'Milton Gray Campbell': {'decathlon'}, 'Alfred Oerter': {'discus throw'}, 'Olga Fikotova-Connolly': {'discus throw'}, 'Harold Vincent Connolly': {'hammer throw'}, 'Charles Everett Dumas': {'high jump'}, 'Mildred Louise Mcdaniel': {'high jump'}, 'Egil Danielsen': {'javelin throw'}, 'Inese Yaunzeme': {'javelin throw'}, 'Gregory Curtis Bell': {'long jump'}, 'Elzbieta Dunska-Krzesinska': {'long jump'}, 'Alain Mimoun': {'marathon'}, 'Tamara Tyshkevich': {'shot put'}, 'Pyotr Bolotnikov': {'10000m'}, 'Armin Hary': {'100m', '4x100m relay'}, 'Wilma Rudolph': {'200m', '100m', '4x100m relay'}, 'Herbert Elliott': {'1500m'}, 'Livio Berruti': {'200m'}, 'Vladimir Golubnichy': {'20km walk'}, 'Zdzislaw Krzyszkowiak': {'3000m steeplechase'}, 'Otis Crandall Davis': {'4x400m relay', '400m'}, 'Bernd Cullmann': {'4x100m relay'}, 'Martin Lauer': {'4x100m relay'}, 'Walter Mahlendorf': {'4x100m relay'}, 'Martha B. Hudson': {'4x100m relay'}, 'Lucinda Williams': {'4x100m relay'}, 'John Lloyd Yerman': {'4x400m relay'}, 'Earl Verdelle Young': {'4x400m relay'}, 'Murray Gordon Halberg': {'5000m'}, 'Donald James Thompson': {'50km walk'}, 'Peter Snell': {'800m', '1500m'}, 'Lyudmila Lisenko-Shevtsova': {'800m'}, 'Iryna Press': {'80m hurdles', 'pentathlon'}, 'Rafer Lewis Johnson': {'decathlon'}, 'Vasili Rudenkov': {'hammer throw'}, 'Robert Shavlakadze': {'high jump'}, 'Iolanda Balas': {'high jump'}, 'Viktor Tsybulenko': {'javelin throw'}, 'Elvira Ozolina': {'javelin throw'}, 'Ralph Harold Boston': {'long jump'}, 'Vera Kolashnikova-Krepkina': {'long jump'}, 'Abebe Bikila': {'marathon'}, 'Donald George Bragg': {'pole vault'}, 'William Henry Nieder': {'shot put'}, 'Tamara Press': {'shot put', 'discus throw'}, 'Jozef Schmidt': {'triple jump'}, 'William Mills': {'10000m'}, 'Robert Hayes': {'100m', '4x100m relay'}, 'Wyomia Tyus': {'100m', '4x100m relay'}, 'Hayes Jones': {'110m hurdles'}, 'Henry Carr': {'4x400m relay', '200m'}, 'Edith Marie Mcguire': {'200m'}, 'Kenneth Joseph Matthews': {'20km walk'}, 'Gaston Roelants': {'3000m steeplechase'}, 'Michael Denny Larrabee': {'4x400m relay', '400m'}, 'Warren (Rex) Jay Cawley': {'400m hurdles'}, 'Gerald Howard Ashworth': {'4x100m relay'}, 'Otis Paul Drayton': {'4x100m relay'}, 'Richard Vaughn Stebbins': {'4x100m relay'}, 'Halina Herrmann-Gorecka-Richter': {'4x100m relay'}, 'Ewa Klobukowska': {'4x100m relay'}, 'Irena Szewinska': {'200m', '400m', '4x100m relay'}, 'Teresa Barbara Wieczorek-Cieply': {'4x100m relay'}, 'Ollan Conley Cassell': {'4x400m relay'}, 'Ulis C. Williams': {'4x400m relay'}, 'Robert Keyser Schul': {'5000m'}, 'Abdon Pamich': {'50km walk'}, 'Ann Elizabeth Packer': {'800m'}, 'Karin Richert-Balzer': {'80m hurdles'}, 'Willi Holdorf': {'decathlon'}, 'Romuald Klim': {'hammer throw'}, 'Valeri Brumel': {'high jump'}, 'Pauli Lauri Nevala': {'javelin throw'}, 'Mihaela Penes': {'javelin throw'}, 'Lynn Davies': {'long jump'}, 'Mary Denise Bignal-Rand': {'long jump'}, 'Frederick Morgan Hansen': {'pole vault'}, 'Dallas Crutcher III Long': {'shot put'}, 'Nabiba Naftali Temu': {'10000m'}, 'James Ray Hines': {'100m', '4x100m relay'}, 'Willie Davenport': {'110m hurdles'}, 'Kipchoge Keino': {'1500m', '3000m steeplechase'}, 'Thomas C. Smith': {'200m'}, 'Amos Kipwabok Biwott': {'3000m steeplechase'}, 'Lee Edward Evans': {'4x400m relay', '400m'}, 'Colette Besson': {'400m'}, 'David Peter Hemery': {'400m hurdles'}, 'Charles Edward Greene': {'4x100m relay'}, 'Melvin Jr. Pender': {'4x100m relay'}, 'Ronald Ray Smith': {'4x100m relay'}, 'Margaret Johnson Bailes': {'4x100m relay'}, 'Barbara Ann Ferrell': {'4x100m relay'}, 'Mildrette Netter': {'4x100m relay'}, 'Ronald John III Freeman': {'4x400m relay'}, 'George Lawrence James': {'4x400m relay'}, 'Vincent Edward Matthews': {'4x400m relay', '400m'}, 'Mohamed Gammoudi': {'5000m'}, 'Christoph HÃ¶hne': {'50km walk'}, 'Ralph Doubell': {'800m'}, 'Madeline Manning-Jackson': {'800m'}, 'Maureen Caird': {'80m hurdles'}, 'William Anthony Toomey': {'decathlon'}, 'Lia Manoliu': {'discus throw'}, 'Gyula Zsivotzky': {'hammer throw'}, 'Richard Douglas Fosbury': {'high jump'}, 'Miloslava Rezkova-Hubner': {'high jump'}, 'Yanis Lusis': {'javelin throw'}, 'Angela Nemeth-Ranky': {'javelin throw'}, 'Bob Beamon': {'long jump'}, 'Viorica Viscopoleanu': {'long jump'}, 'Mamo Wolde': {'marathon'}, 'Ingrid Becker-Mickler': {'4x100m relay', 'pentathlon'}, 'Robert Lloyd Seagren': {'pole vault'}, 'James Randel Matson': {'shot put'}, 'Margitta Helmbold-Gummel': {'shot put'}, 'Viktor Saneev': {'triple jump'}, 'Lasse Viren': {'5000m', '10000m'}, 'Valery Borzov': {'200m', '100m'}, 'Renate Stecher': {'200m', '100m', '4x100m relay'}, 'Annelie Ehrhardt': {'100m hurdles'}, 'Rodney Jr. Milburn': {'110m hurdles'}, 'Pekka Vasala': {'1500m'}, 'Lyudmila Bragina': {'1500m'}, 'Peter Frenkel': {'20km walk'}, 'Monika Zehrt': {'4x400m relay', '400m'}, 'John Akii-Bua': {'400m hurdles'}, 'Lawrence J. Black': {'4x100m relay'}, 'Edward James Hart': {'4x100m relay'}, 'Robert Taylor': {'4x100m relay'}, 'Gerald A. Tinker': {'4x100m relay'}, 'Christiane Krause': {'4x100m relay'}, 'Annegret Richter-Irrgang': {'100m', '4x100m relay'}, 'Heidemarie Rosendahl': {'long jump', '4x100m relay'}, 'Charles Asati': {'4x400m relay'}, 'Hezekiah Munyoro Nyamau': {'4x400m relay'}, 'Robert Ouko': {'4x400m relay'}, 'Julius Sang': {'4x400m relay'}, 'Dagmar KÃ¤sling': {'4x400m relay'}, 'Rita KÃ¼hne': {'4x400m relay'}, 'Helga Seidler': {'4x400m relay'}, 'Bernd Kannenberg': {'50km walk'}, 'David James Wottle': {'800m'}, 'Hildegard Falck-Janze': {'800m'}, 'Nikolai Avilov': {'decathlon'}, 'Ludvik Danek': {'discus throw'}, 'Faina Melnik': {'discus throw'}, 'Anatoli Bondarchuk': {'hammer throw'}, 'Yuri Tarmak': {'high jump'}, 'Ulrike Meyfarth': {'high jump'}, 'Klaus Wolfermann': {'javelin throw'}, 'Ruth Fuchs': {'javelin throw'}, 'Randel Luvelle Williams': {'long jump'}, 'Frank Charles Shorter': {'marathon'}, 'Mary Peters': {'pentathlon'}, 'Wolfgang Nordwig': {'pole vault'}, 'Wladyslaw Komar': {'shot put'}, 'Nadezhda Chizhova': {'shot put'}, 'Hasely Crawford': {'100m'}, 'Johanna Schaller-Klier': {'100m hurdles'}, 'Guy Drut': {'110m hurdles'}, 'John Walker': {'1500m'}, 'Tatiana Kazankina': {'800m', '1500m'}, 'Donald Quarrie': {'200m'}, 'BÃ¤rbel Eckert-WÃ¶ckel': {'200m', '4x100m relay'}, 'Daniel Bautista rocha': {'20km walk'}, 'Anders Garderud': {'3000m steeplechase'}, 'Alberto Juantorena': {'400m', '800m'}, 'Edwin Moses': {'400m hurdles'}, 'Harvey Edward Glance': {'4x100m relay'}, 'Millard Frank Jr. Hampton': {'4x100m relay'}, 'John Wesley Jones': {'4x100m relay'}, 'Steven Earl Riddick': {'4x100m relay'}, 'Carla Bodendorf': {'4x100m relay'}, 'Marlies Oelsner-GÃ¶hr': {'4x100m relay'}, 'Benjamin Gene Brown': {'4x400m relay'}, 'Herman Ronald Frazier': {'4x400m relay'}, 'Frederick Vaughn Newhouse': {'4x400m relay'}, 'Maxwell Lander Parks': {'4x400m relay'}, 'Christina Brehmer-Lathan': {'4x400m relay'}, 'Doris Maletzki': {'4x400m relay'}, 'Brigitte Rohde': {'4x400m relay'}, 'Ellen Stropahl-Streidt': {'4x400m relay'}, 'William Bruce Jenner': {'decathlon'}, 'Malcolm Maurice Wilkins': {'discus throw'}, 'Evelin Schlaak-Jahl': {'discus throw'}, 'Yuri Sedykh': {'hammer throw'}, 'Jacek Wszola': {'high jump'}, 'Rosemarie Witschas-Ackermann': {'high jump'}, 'Miklos Nemeth': {'javelin throw'}, 'Arnie Robinson': {'long jump'}, 'Angela Voigt': {'long jump'}, 'Waldemar Cierpinski': {'marathon'}, 'Siegrun Siegl': {'pentathlon'}, 'Tadeusz Slusarski': {'pole vault'}, 'Udo Beyer': {'shot put'}, 'Ivanka Mikailova Christova-Todorova': {'shot put'}, 'Miruts Yifter': {'5000m', '10000m'}, 'Allan Wells': {'100m'}, 'Liudmila Kondratieva': {'100m'}, 'Vera Komisova': {'100m hurdles'}, 'Thomas Munkelt': {'110m hurdles'}, 'Sebastian Coe': {'1500m'}, 'Pietro Mennea': {'200m'}, 'Maurizio Damilano': {'20km walk'}, 'Bronislaw Malinowski': {'3000m steeplechase'}, 'Viktor Markin': {'4x400m relay', '400m'}, 'Marita Koch': {'400m'}, 'Volker Beck': {'400m hurdles'}, 'Aleksandr Aksinin': {'4x100m relay'}, 'Vladimir Muravyov': {'4x100m relay'}, 'Andrei Prokofiev': {'4x100m relay'}, 'Nikolai Sidorov': {'4x100m relay'}, 'Ingrid Auerswald-Lange': {'4x100m relay'}, 'Romy MÃ¼ller': {'4x100m relay'}, 'Nikolai Chernetski': {'4x400m relay'}, 'Mikhail Linge': {'4x400m relay'}, 'Remigius Valiulis': {'4x400m relay'}, 'Tatiana Goishchik': {'4x400m relay'}, 'Irina Nazarova': {'4x400m relay'}, 'Tatiana Prorochenko': {'4x400m relay'}, 'Nina Ziuskova': {'4x400m relay'}, 'Hartwig Gauder': {'50km walk'}, 'Steve Ovett': {'800m'}, 'Nadezhda Olizarenko': {'800m'}, 'Daley Thompson': {'decathlon'}, 'Viktor Rashchupkin': {'discus throw'}, 'Gerd Wessig': {'high jump'}, 'Sara Simeoni': {'high jump'}, 'Dainis Kula': {'javelin throw'}, 'Maria Colon': {'javelin throw'}, 'Lutz Dombrowski': {'long jump'}, 'Tatiana Kolpakova': {'long jump'}, 'Nadezhda Tkachenko': {'pentathlon'}, 'Wladyslaw Kozakiewicz': {'pole vault'}, 'Vladimir Kiselev': {'shot put'}, 'Ilona Schoknecht-Slupianek': {'shot put'}, 'Yaak Uudmae': {'triple jump'}, 'Alberto Cova': {'10000m'}, 'Carl Lewis': {'200m', '100m', '4x100m relay', 'long jump'}, 'Evelyn Ashford': {'100m', '4x100m relay'}, 'Benita Fitzgerald-Brown': {'100m hurdles'}, 'Roger Kingdom': {'110m hurdles'}, 'Gabriella Dorio': {'1500m'}, 'Valerie Ann Brisco-Hooks': {'4x400m relay', '200m', '400m'}, 'Ernesto Canto gudino': {'20km walk'}, 'Maricica Puica': {'3000m'}, 'Julius Korir': {'3000m steeplechase'}, 'Alonzo C. Babers': {'4x400m relay', '400m'}, 'Nawal El moutawakel': {'400m hurdles'}, 'Ronald James Brown': {'4x100m relay'}, 'Samuel Louis Graddy': {'4x100m relay'}, 'Calvin Smith': {'4x100m relay'}, 'Jeanette Bolden': {'4x100m relay'}, 'Alice Regina Brown': {'4x100m relay'}, 'Chandra Danette Cheeseborough': {'4x400m relay', '4x100m relay'}, 'Raymond Armstead': {'4x400m relay'}, 'Antonio Ricardo Mckay': {'4x400m relay'}, 'Sunder L. Nix': {'4x400m relay'}, 'Sherryl Frances Howard': {'4x400m relay'}, 'Lillie Mae Leatherwood-King': {'4x400m relay'}, 'Said Aouita': {'5000m'}, 'Raul Gonzalez': {'50km walk'}, 'Joaquim Cruz': {'800m'}, 'Doina Besliu-Melinte': {'800m'}, 'Rolf Danneberg': {'discus throw'}, 'Ria G. Stalman': {'discus throw'}, 'Juha Tiainen': {'hammer throw'}, 'Glyniss Leanne Nunn-Saunders-Cearns': {'heptathlon'}, 'Dietmar MÃ¶genburg': {'high jump'}, 'Arto Harkonen': {'javelin throw'}, 'Teresa Sanderson': {'javelin throw'}, 'Anisoara Cusmir-Stanciu': {'long jump'}, 'Carlos Lopes': {'marathon'}, 'Joan Benoit': {'marathon'}, 'Pierre Quinon': {'pole vault'}, 'Alessandro Andrei': {'shot put'}, 'Claudia Losch': {'shot put'}, 'Alfredrick Alphonzo Joyner': {'triple jump'}, 'Moulay Brahim Boutayeb': {'10000m'}, 'Olga Bondarenko': {'10000m'}, 'Florence Griffith-Joyner': {'200m', '100m', '4x100m relay'}, 'Yordanka Donkova': {'100m hurdles'}, 'Peter Rono': {'1500m'}, 'Paula Ivan': {'1500m'}, 'Joseph Nathaniel Jr. Deloach': {'200m'}, 'Jozef Pribilinec': {'20km walk'}, 'Tatyana Samolenko-Dorovskikh': {'3000m'}, 'Julius Kariuki': {'3000m steeplechase'}, 'Steve Lewis': {'4x400m relay', '400m'}, 'Olga Bryzgina': {'4x400m relay', '400m'}, 'Andre Lamar Phillips': {'400m hurdles'}, 'Deborah Flintoff-King': {'400m hurdles'}, 'Viktor Bryzgin': {'4x100m relay'}, 'Vladimir Krylov': {'4x100m relay'}, 'Vitaly Savin': {'4x100m relay'}, 'Sheila Echols': {'4x100m relay'}, 'Daniel Everett': {'4x400m relay'}, 'Harry Butch . Reynolds': {'4x400m relay'}, 'Kevin Bernard Robinzine': {'4x400m relay'}, 'Tatiana Ledovskaya': {'4x400m relay'}, 'Olga Nazarova': {'4x400m relay'}, 'Mariya Pinigina': {'4x400m relay'}, 'John Ngugi': {'5000m'}, 'Vyacheslav Ivanenko': {'50km walk'}, 'Paul Ereng': {'800m'}, 'Sigrun Wodars': {'800m'}, 'Christian Schenk': {'decathlon'}, 'JÃ¼rgen Schult': {'discus throw'}, 'Martina Hellmann': {'discus throw'}, 'Sergei Litvinov': {'hammer throw'}, 'Jackie Joyner-Kersee': {'heptathlon', 'long jump'}, 'Gennadi Avdeenko': {'high jump'}, 'Dorothy Louise Ritter': {'high jump'}, 'Tapio Korjus': {'javelin throw'}, 'Petra Felke-Meier': {'javelin throw'}, 'Gelindo Bordin': {'marathon'}, 'Rosa Mota': {'marathon'}, 'Sergey Bubka': {'pole vault'}, 'Ulf Timmermann': {'shot put'}, 'Natalya Lisovskaya': {'shot put'}, 'Kristo Gantchev Markov': {'triple jump'}, 'Khalid Skah': {'10000m'}, 'Derartu Tulu': {'10000m'}, 'Yueling Chen': {'10000m walk'}, 'Linford Christie': {'100m'}, 'Gail Devers': {'100m', '4x100m relay'}, 'Paraskevi Voula Patoulidou': {'100m hurdles'}, 'Mark Mckoy': {'110m hurdles'}, 'Fermin Cacho ruiz': {'1500m'}, 'Hassiba Boulmerka': {'1500m'}, 'Michael Marsh': {'200m', '4x100m relay'}, 'Gwen Torrence': {'200m', '4x100m relay'}, 'Daniel Plaza montero': {'20km walk'}, 'Elena Romanova': {'3000m'}, 'Mathew Birir': {'3000m steeplechase'}, 'Quincy Watts': {'4x400m relay', '400m'}, 'Marie-Jose Perec': {'200m', '400m'}, 'Kevin Curtis Young': {'400m hurdles'}, 'Sally Janet Jane Gunnell': {'400m hurdles'}, 'Leroy Burrell': {'4x100m relay'}, 'James Jett': {'4x100m relay'}, 'Dennis Mitchell': {'4x100m relay'}, 'Michelle Finn': {'4x100m relay'}, 'Carlette D. Guidry-White': {'4x100m relay'}, 'Esther Jones': {'4x100m relay'}, 'Darnell Hall': {'4x400m relay'}, 'Charles L. Jenkins': {'4x400m relay'}, 'Michael Johnson': {'4x400m relay', '400m', '200m'}, 'Andrew Valmon': {'4x400m relay'}, 'Marina Chmonina': {'4x400m relay'}, 'Lioudmila Djigalova': {'4x400m relay'}, 'Lilia Nurutdinova': {'4x400m relay'}, 'Yelena Rouzina': {'4x400m relay'}, 'Dieter Baumann': {'5000m'}, 'Andrey Perlov': {'50km walk'}, 'William Tanui': {'800m'}, 'Ellen Van langen': {'800m'}, 'Robert Zmelik': {'decathlon'}, 'Romas Ubartas': {'discus throw'}, 'Maritza Marten': {'discus throw'}, 'Andrey Abduvaliev': {'hammer throw'}, 'Javier Sotomayor': {'high jump'}, 'Heike Henkel': {'high jump'}, 'Jan Zelezny': {'javelin throw'}, 'Silke Renk': {'javelin throw'}, 'Heike Drechsler': {'long jump'}, 'Young-Cho Hwang': {'marathon'}, 'Valentina Yegorova': {'marathon'}, 'Maksim Tarasov': {'pole vault'}, 'Michael D. Stulce': {'shot put'}, 'Svetlana Krivelyova': {'shot put'}, 'Mike Conley': {'triple jump'}, 'Haile Gebrselassie': {'10000m'}, 'Fernanda Ribeiro': {'10000m'}, 'Yelena Nikolayeva': {'10000m walk'}, 'Donovan Bailey': {'100m', '4x100m relay'}, 'Ludmila Engquist': {'100m hurdles'}, 'Allen Johnson': {'110m hurdles'}, 'Nourredine Morceli': {'1500m'}, 'Svetlana Masterkova': {'800m', '1500m'}, 'Jefferson Perez': {'20km walk'}, 'Joseph Keter': {'3000m steeplechase'}, 'Derrick Adkins': {'400m hurdles'}, 'Deon Marie Hemmings': {'400m hurdles'}, 'Carlton Chambers': {'4x100m relay'}, 'Robert Esmie': {'4x100m relay'}, 'Glenroy Gilbert': {'4x100m relay'}, 'Bruny Surin': {'4x100m relay'}, 'Chryste Gaines': {'4x100m relay'}, 'Inger Miller': {'4x100m relay'}, 'Alvin Harrison': {'4x400m relay'}, 'Anthuan Maybank': {'4x400m relay'}, 'Derek Mills': {'4x400m relay'}, 'Jason Rouser': {'4x400m relay'}, 'Lamont Smith': {'4x400m relay'}, 'Kim Graham': {'4x400m relay'}, 'Maicel Malone': {'4x400m relay'}, 'Jearl Miles': {'4x400m relay'}, 'Rochelle Stevens': {'4x400m relay'}, 'Linetta Wilson': {'4x400m relay'}, 'Venuste Niyongabo': {'5000m'}, 'Junxia Wang': {'5000m'}, 'Robert Korzeniowski': {'50km walk', '20km walk'}, 'Vebjorn Rodal': {'800m'}, \"Dan O'brien\": {'decathlon'}, 'Lars Riedel': {'discus throw'}, 'Ilke Wyludda': {'discus throw'}, 'Balazs Kiss': {'hammer throw'}, 'Ghada Shouaa': {'heptathlon'}, 'Charles Austin': {'high jump'}, 'Stefka Kostadinova': {'high jump'}, 'Heli Orvokki Rantanen': {'javelin throw'}, 'Chioma Ajunwa': {'long jump'}, 'Josia Thugwane': {'marathon'}, 'Fatuma Roba': {'marathon'}, 'Jean Galfione': {'pole vault'}, 'Eric Randolph Barnes': {'shot put'}, 'Astrid Kumbernuss': {'shot put'}, 'Kenny Harrison': {'triple jump'}, 'Inessa Kravets': {'triple jump'}, 'Maurice Greene': {'100m', '4x100m relay'}, 'Olga Shishigina': {'100m hurdles'}, 'Anier Garcia': {'110m hurdles'}, 'Noah Kiprono Ngenyi': {'1500m'}, 'Nouria Merah-Benida': {'1500m'}, 'Konstantinos Kenteris': {'200m'}, 'Pauline Elaine Davis': {'200m', '4x100m relay'}, 'Liping Wang': {'20km race walk'}, 'Reuben Kosgei': {'3000m steeplechase'}, 'Cathy Freeman': {'400m'}, 'Angelo Taylor': {'400m hurdles', '4x400m relay'}, 'Irina Privalova': {'400m hurdles'}, 'Kenneth Brokenburr': {'4x100m relay'}, 'Jon Drummond': {'4x100m relay'}, 'Brian Lewis': {'4x100m relay'}, 'Tim Montgomery': {'4x100m relay'}, 'Bernard Williams iii': {'4x100m relay'}, 'Debbie Ferguson-Mckenzie': {'4x100m relay'}, 'Sevatheda Fynes': {'4x100m relay'}, 'Eldice Lewis': {'4x100m relay'}, 'Chandra Sturrup': {'4x100m relay'}, 'Andrea Anderson': {'4x400m relay'}, 'LaTasha Colander': {'4x400m relay'}, 'Monique Hennagan': {'4x400m relay'}, 'Millon Wolde': {'5000m'}, 'Gabriela Szabo': {'5000m'}, 'Nils Schumann': {'800m'}, 'Maria Mutola': {'800m'}, 'Erki Nool': {'decathlon'}, 'Virgilijus Alekna': {'discus throw'}, 'Ellina Zvereva': {'discus throw'}, 'Szymon Ziolkowski': {'hammer throw'}, 'Kamila Skolimowska': {'hammer throw'}, 'Denise Lewis': {'heptathlon'}, 'Sergey Kliugin': {'high jump'}, 'Yelena Yelesina': {'high jump'}, 'Trine Hattestad': {'javelin throw'}, 'Ivan Pedroso': {'long jump'}, 'Gezahegne Abera': {'marathon'}, 'Naoko Takahashi': {'marathon'}, 'Nick Hysong': {'pole vault'}, 'Stacy Dragila': {'pole vault'}, 'Arsi Harju': {'shot put'}, 'Yanina Karolchik': {'shot put'}, 'Jonathan David Edwards': {'triple jump'}, 'Tereza Marinova': {'triple jump'}, 'Kenenisa Bekele': {'5000m', '10000m'}, 'Huina Xing': {'10000m'}, 'Justin Gatlin': {'100m'}, 'Yuliya Nesterenko': {'100m'}, 'Joanna Hayes': {'100m hurdles'}, 'Xiang Liu': {'110m hurdles'}, 'Hicham El guerrouj': {'5000m', '1500m'}, 'Kelly Holmes': {'800m', '1500m'}, 'Shawn Crawford': {'200m'}, 'Veronica Campbell-Brown': {'200m', '4x100m relay'}, 'Athanasia Tsoumeleka': {'20km race walk'}, 'Ivano Brugnetti': {'20km walk'}, 'Ezekiel Kemboi': {'3000m steeplechase'}, 'Jeremy Wariner': {'4x400m relay', '400m'}, 'Tonique Williams-Darling': {'400m'}, 'Felix Sanchez': {'400m hurdles'}, 'Fani Chalkia': {'400m hurdles'}, 'Darren Campbell': {'4x100m relay'}, 'Marlon Devonish': {'4x100m relay'}, 'Jason Gardener': {'4x100m relay'}, 'Mark Lewis-Francis': {'4x100m relay'}, 'Aleen Bailey': {'4x100m relay'}, 'Tanya Lawrence': {'4x100m relay'}, 'Beverly Mcdonald': {'4x100m relay'}, 'Sherone Simpson': {'4x100m relay'}, 'Derrick Brew': {'4x400m relay'}, 'Otis Harris': {'4x400m relay'}, 'Darold Williamson': {'4x400m relay'}, 'Kelly Willie': {'4x400m relay'}, 'Crystal Cox': {'4x400m relay'}, 'Monique Henderson': {'4x400m relay'}, 'Sanya Richards': {'4x400m relay'}, 'Moushaumi Robinson': {'4x400m relay'}, 'Deedee Trotter': {'4x400m relay'}, 'Meseret Defar': {'5000m', '5000m team'}, 'Yuriy Borzakovskiy': {'800m'}, 'Roman Sebrle': {'decathlon'}, 'Natalya Sadova': {'discus throw'}, 'Koji Murofushi': {'hammer throw'}, 'Olga Kuzenkova': {'hammer throw'}, 'Carolina Kluft': {'heptathlon'}, 'Stefan Holm': {'high jump'}, 'Elena Slesarenko': {'high jump'}, 'Andreas Thorkildsen': {'javelin throw'}, 'Osleidys Menendez': {'javelin throw'}, 'Dwight Phillips': {'long jump'}, 'Tatyana Lebedeva': {'long jump'}, 'Stefano Baldini': {'marathon'}, 'Mizuki Noguchi': {'marathon'}, 'Timothy Mack': {'pole vault'}, 'Elena Isinbaeva': {'pole vault'}, 'Yuriy Bilonog': {'shot put'}, 'Yumileidi Cumba': {'shot put'}, 'Christian Olsson': {'triple jump'}, 'Francoise Mbango etone': {'triple jump'}, 'Tirunesh Dibaba': {'5000m', '10miles walk (16093m)', '10000m'}, 'Usain Bolt': {'200m', '100m', '4x100m relay'}, 'Shelly-Ann Fraser': {'100m'}, 'Dawn Harper': {'100m hurdles'}, 'Dayron Robles': {'110m hurdles'}, 'Asbel Kipruto Kiprop': {'1500m'}, 'Nancy jebet Langat': {'1500m'}, 'Olga Kaniskina': {'20km race walk'}, 'Valeriy Borchin': {'20km walk'}, 'Brimin Kiprop Kipruto': {'3000m steeplechase'}, 'Gulnara Galkina-Samitova': {'3000m steeplechase'}, 'LaShawn Merritt': {'4x400m relay', '400m'}, 'Christine Ohuruogu': {'400m'}, 'Melaine Walker': {'400m hurdles'}, 'Nesta Carter': {'4x100m relay'}, 'Michael Frater': {'4x100m relay'}, 'Asafa Powell': {'4x100m relay'}, 'Yuliya Chermoshanskaya': {'4x100m relay'}, 'Aleksandra Fedoriva': {'4x100m relay'}, 'Yulia Gushchina': {'4x100m relay'}, 'Evgeniya Polyakova': {'4x100m relay'}, 'David Neville': {'4x400m relay'}, 'Allyson Felix': {'4x400m relay', '4x100m relay', '200m'}, 'Mary Wineberg': {'4x400m relay'}, 'Alex Schwazer': {'50km walk'}, 'Wilfred Bungei': {'800m'}, 'Pamela Jelimo': {'800m'}, 'Bryan Clay': {'decathlon'}, 'Gerd Kanter': {'discus throw'}, 'Stephanie Brown trafton': {'discus throw'}, 'Primoz Kozmus': {'hammer throw'}, 'Aksana Miankova': {'hammer throw'}, 'Nataliia Dobrynska': {'heptathlon'}, 'Andrey Silnov': {'high jump'}, 'Tia Hellebaut': {'high jump'}, 'Barbora Spotakova': {'javelin throw'}, 'Irving Jahir Saladino aranda': {'long jump'}, 'Maurren Higa Maggi': {'long jump'}, 'Samuel Kamau Wansiru': {'marathon'}, 'Constantina Tomescu': {'marathon'}, 'Steve Hooker': {'pole vault'}, 'Tomasz Majewski': {'shot put'}, 'Valerie Vili': {'shot put'}, 'Nelson Evora': {'triple jump'}, 'Sanya Richards-Ross': {'4x400m relay', '400m'}, 'Mo Farah': {'5000m team', '10miles walk (16093m)'}, 'Shelly-Ann Fraser-Pryce': {'100m'}, 'Yohan Blake': {'4x100m relay'}, 'Carmelita Jeter': {'4x100m relay'}, 'Natalya Antyukh': {'400m hurdles'}, 'DeeDee Trotter': {'4x400m relay'}, 'Yuliya Zaripova': {'3000m steeplechase'}, 'Ivan Ukhov': {'high jump'}, 'Anna Chicherova': {'high jump'}, 'Tatyana Lysenko': {'hammer throw'}, 'Sergey Kirdyapkin': {'50km walk'}, 'Elena Lashmanova': {'20km walk'}, 'Mariya Savinova': {'800m'}, 'Valerie Adams': {'shot put'}, 'David Lekuta Rudisha': {'800m'}, 'Olga Rypakova': {'triple jump'}, 'Robert Harting': {'discus throw'}, 'Krisztian Pars': {'hammer throw'}, 'Kirani James': {'400m'}, 'Jessica Ennis': {'heptathlon'}, 'Kemar Bailey-Cole': {'4x100m relay'}, 'Tiki Gelana': {'marathon'}, 'Alistair Brownlee': {'triathlon (long jump / shot put / 100 yards)'}, 'Greg Rutherford': {'long jump'}, 'Renaud Lavillenie': {'pole vault'}, 'Sally Pearson': {'100m hurdles'}, 'Taoufik Makhloufi': {'1500m'}, 'Ding Chen': {'20km walk'}, 'Sandra Perkovic': {'discus throw'}, 'Chris Brown': {'4x400m relay'}, 'Michael Mathieu': {'4x400m relay'}, 'Ramon Miller': {'4x400m relay'}, 'Demetrius Pinder': {'4x400m relay'}, 'Lauryn Williams': {'4x100m relay'}, 'Jennifer Suhr': {'pole vault'}, 'Ashton Eaton': {'decathlon'}, 'Keshia Baker': {'4x400m relay'}, 'Diamond Dixon': {'4x400m relay'}, 'Brittney Reese': {'long jump'}, 'Keshorn Walcott': {'javelin throw'}, 'Stephen Kiprotich': {'marathon'}, 'Alptekin Asli Cakir': {'1500m'}, 'Nicola Spirig': {'triathlon (long jump / shot put / 100 yards)'}, 'Christian Taylor': {'triple jump'}, 'Bianca Knight': {'4x100m relay'}, 'Aries Merritt': {'110m hurdles'}, 'Jeneba Tarmoh': {'4x100m relay'}, 'Tianna Madison': {'4x100m relay'}, 'Francena McCorory': {'4x400m relay'}, 'Elaine Thompson': {'200m', '100m'}, 'Tianna Bartoletta': {'long jump', '4x100m relay'}, 'Mohamed Farah': {'5000m team', '10miles walk (16093m)'}, 'Tori Bowie': {'4x100m relay'}, 'Vivian Jepkemoi Cheruiyot': {'5000m team'}, 'Almaz Ayana': {'10miles walk (16093m)'}, 'Lashawn Merritt': {'4x400m relay'}, 'Morolake Akinosun': {'4x100m relay'}, 'Nickel Ashmeade': {'4x100m relay'}, 'Ruth Beitia': {'high jump'}, 'Michelle Carter': {'shot put'}, 'Matthew Centrowitz': {'1500m'}, 'Kerron Clement': {'400m hurdles'}, 'Kyle Clemons': {'4x400m relay'}, 'Ryan Crouser': {'shot put'}, 'Thiago Braz Da Silva': {'pole vault'}, 'Derek Drouin': {'high jump'}, 'Taylor Ellis-Watson': {'4x400m relay'}, 'Phyllis Francis': {'4x400m relay'}, 'English Gardner': {'4x100m relay'}, 'Arman Hall': {'4x400m relay'}, 'Christoph Harting': {'discus throw'}, 'Natasha Hastings': {'4x400m relay'}, 'Jeff Henderson': {'long jump'}, 'Caterine Ibarguen': {'triple jump'}, 'Ruth Jebet': {'3000m steeplechase'}, 'Gwen Jorgensen': {'triathlon (long jump / shot put / 100 yards)'}, 'Eliud Kipchoge': {'marathon'}, 'Conseslus Kipruto': {'3000m steeplechase'}, 'Faith Chepngetich Kipyegon': {'1500m'}, 'Sara Kolak': {'javelin throw'}, 'Hong Liu': {'20km walk'}, 'Francena Mccorory': {'4x400m relay'}, 'Omar Mcleod': {'110m hurdles'}, 'Tony Mcquay': {'4x400m relay'}, 'Shaunae Miller': {'400m'}, 'Jevaughn Minzie': {'4x100m relay'}, 'Dalilah Muhammad': {'400m hurdles'}, 'Dilshod Nazarov': {'hammer throw'}, 'Courtney Okolo': {'4x400m relay'}, 'Jenna Prandini': {'4x100m relay'}, 'Gil Roberts': {'4x400m relay'}, 'Thomas Rohler': {'javelin throw'}, 'Brianna Rollins': {'100m hurdles'}, 'Caster Semenya': {'800m'}, 'Ekaterini Stefanidi': {'pole vault'}, 'Jemima Jelagat Sumgong': {'marathon'}, 'Nafissatou Thiam': {'heptathlon'}, 'Matej Toth': {'50km walk'}, 'NIEKERK Wayde Van': {'400m'}, 'David Verburg': {'4x400m relay'}, 'Zhen Wang': {'20km walk'}, 'Ariana Washington': {'4x100m relay'}, 'Anita Wlodarczyk': {'hammer throw'}})\n"
     ]
    }
   ],
   "source": [
    "def clean(event):\n",
    "    return ' '.join(word for word in event.split() if word not in ('men', 'women'))\n",
    "\n",
    "\n",
    "medal_different_events = {(medal.athlete, clean(medal.event)) for medal in medals}\n",
    "# print(medal_different_events)\n",
    "# print(medals[:10])\n",
    "medal_events_dict = collections.defaultdict(set)\n",
    "for medal in medals:\n",
    "    medal_events_dict[medal.athlete].add(clean(medal.event))\n",
    "    \n",
    "print(medal_events_dict)"
   ]
  },
  {
   "cell_type": "code",
   "execution_count": 10,
   "metadata": {},
   "outputs": [
    {
     "data": {
      "text/plain": [
       "[('Paavo Nurmi', 6),\n",
       " ('Ville Ritola', 5),\n",
       " ('Fanny Blankers-Koen', 4),\n",
       " ('Hannes Kolehmainen', 4),\n",
       " ('Alvin Kraenzlein', 4)]"
      ]
     },
     "execution_count": 10,
     "metadata": {},
     "output_type": "execute_result"
    }
   ],
   "source": [
    "final = collections.Counter(line[0] for line in medal_different_events)\n",
    "final.most_common(5)"
   ]
  },
  {
   "cell_type": "markdown",
   "metadata": {},
   "source": [
    "**Sorted** - accepts an iterator, key parameter takes a function that returns a value and reverse => descending order"
   ]
  },
  {
   "cell_type": "code",
   "execution_count": 26,
   "metadata": {},
   "outputs": [
    {
     "name": "stdout",
     "output_type": "stream",
     "text": [
      "Paavo Nurmi {'cross country individual', '1500m', '10000m', 'cross country team', '3000m team', '5000m'}\n",
      "Ville Ritola {'10000m', 'cross country team', '3000m team', '5000m', '3000m steeplechase'}\n",
      "Alvin Kraenzlein {'60m', '110m hurdles', '200m hurdles', 'long jump'}\n",
      "Hannes Kolehmainen {'5000m', 'marathon', 'cross country individual', '10000m'}\n",
      "Jesse Owens {'200m', '100m', '4x100m relay', 'long jump'}\n"
     ]
    }
   ],
   "source": [
    "def howmany(tup):\n",
    "    return len(tup[1])\n",
    "\n",
    "for x,y in sorted(medal_events_dict.items(), key=howmany, reverse=True)[:5]:\n",
    "    print(x, y)"
   ]
  },
  {
   "cell_type": "markdown",
   "metadata": {},
   "source": []
  }
 ],
 "metadata": {
  "kernelspec": {
   "display_name": "Python 3",
   "language": "python",
   "name": "python3"
  },
  "language_info": {
   "codemirror_mode": {
    "name": "ipython",
    "version": 3
   },
   "file_extension": ".py",
   "mimetype": "text/x-python",
   "name": "python",
   "nbconvert_exporter": "python",
   "pygments_lexer": "ipython3",
   "version": "3.6.10"
  }
 },
 "nbformat": 4,
 "nbformat_minor": 4
}
