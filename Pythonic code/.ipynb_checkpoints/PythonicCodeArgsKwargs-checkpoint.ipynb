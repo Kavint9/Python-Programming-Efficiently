{
 "cells": [
  {
   "cell_type": "markdown",
   "metadata": {
    "collapsed": true
   },
   "source": [
    "### Python module/package imports for this chapter"
   ]
  },
  {
   "cell_type": "code",
   "execution_count": 1,
   "metadata": {},
   "outputs": [],
   "source": [
    "import math, json, collections, itertools"
   ]
  },
  {
   "cell_type": "code",
   "execution_count": 2,
   "metadata": {},
   "outputs": [],
   "source": [
    "import numpy as np\n",
    "import matplotlib.pyplot as pp\n",
    "%matplotlib inline"
   ]
  },
  {
   "cell_type": "code",
   "execution_count": 3,
   "metadata": {},
   "outputs": [],
   "source": [
    "# from mpl_toolkits.basemap import Basemap\n",
    "# import geopy"
   ]
  },
  {
   "cell_type": "markdown",
   "metadata": {},
   "source": [
    "**March 2020 update**:\n",
    "\n",
    "* at 03:54 in the video: as of version 3.6, Python offers *f-strings*—an even more convenient and Pythonic way to intersperse values within strings. With an f-string, one would write this interpolation by using the variable names (including field names) directly:\n",
    "\n",
    "        print(f'In {medal.year}, {medal.athlete} won for {medal.team}.')\n",
    "    \n",
    "    Beautiful (but don't forget the `f`)!"
   ]
  },
  {
   "cell_type": "markdown",
   "metadata": {},
   "source": [
    "### Code and data needed from previous videos"
   ]
  },
  {
   "cell_type": "code",
   "execution_count": 5,
   "metadata": {},
   "outputs": [],
   "source": [
    "medal = collections.namedtuple('medal',['year','athlete','team','event'])\n",
    "medals = [medal(*line.strip().split('\\t')) for line in open('goldmedals.txt','r')]"
   ]
  },
  {
   "cell_type": "markdown",
   "metadata": {},
   "source": [
    "## Refactoring code to make it Pythonic"
   ]
  },
  {
   "cell_type": "code",
   "execution_count": 6,
   "metadata": {},
   "outputs": [
    {
     "name": "stdout",
     "output_type": "stream",
     "text": [
      "The Zen of Python, by Tim Peters\n",
      "\n",
      "Beautiful is better than ugly.\n",
      "Explicit is better than implicit.\n",
      "Simple is better than complex.\n",
      "Complex is better than complicated.\n",
      "Flat is better than nested.\n",
      "Sparse is better than dense.\n",
      "Readability counts.\n",
      "Special cases aren't special enough to break the rules.\n",
      "Although practicality beats purity.\n",
      "Errors should never pass silently.\n",
      "Unless explicitly silenced.\n",
      "In the face of ambiguity, refuse the temptation to guess.\n",
      "There should be one-- and preferably only one --obvious way to do it.\n",
      "Although that way may not be obvious at first unless you're Dutch.\n",
      "Now is better than never.\n",
      "Although never is often better than *right* now.\n",
      "If the implementation is hard to explain, it's a bad idea.\n",
      "If the implementation is easy to explain, it may be a good idea.\n",
      "Namespaces are one honking great idea -- let's do more of those!\n"
     ]
    }
   ],
   "source": [
    "import this"
   ]
  },
  {
   "cell_type": "code",
   "execution_count": 8,
   "metadata": {},
   "outputs": [
    {
     "data": {
      "text/plain": [
       "['Abdon Pamich',\n",
       " 'Abebe Bikila',\n",
       " 'Abel Kiviat',\n",
       " 'Adhemar Ferreira Da Silva',\n",
       " 'Adolfo Consolini',\n",
       " 'Aksana Miankova',\n",
       " 'Alain Mimoun',\n",
       " 'Alan Helffrich',\n",
       " 'Albert Hill',\n",
       " 'Albert Lovejoy Gutterson']"
      ]
     },
     "execution_count": 8,
     "metadata": {},
     "output_type": "execute_result"
    }
   ],
   "source": [
    "sorted({medal.athlete for medal in medals})[:10]"
   ]
  },
  {
   "cell_type": "code",
   "execution_count": 13,
   "metadata": {},
   "outputs": [
    {
     "data": {
      "text/plain": [
       "['Abdon Pamich',\n",
       " 'Abebe Bikila',\n",
       " 'Abel Kiviat',\n",
       " 'Adhemar Ferreira Da Silva',\n",
       " 'Adolfo Consolini',\n",
       " 'Aksana Miankova',\n",
       " 'Alain Mimoun',\n",
       " 'Alan Helffrich',\n",
       " 'Albert Hill',\n",
       " 'Albert Lovejoy Gutterson']"
      ]
     },
     "execution_count": 13,
     "metadata": {},
     "output_type": "execute_result"
    }
   ],
   "source": [
    "# Above is equivalent to \n",
    "athletes = []\n",
    "for medal in medals:\n",
    "    if medal.athlete not in athletes:\n",
    "        athletes.append(medal.athlete)\n",
    "\n",
    "athletes.sort()\n",
    "athletes[:10]"
   ]
  },
  {
   "cell_type": "markdown",
   "metadata": {},
   "source": [
    "2) Number of athletes that won both 100m and 200m "
   ]
  },
  {
   "cell_type": "code",
   "execution_count": 33,
   "metadata": {},
   "outputs": [],
   "source": [
    "#=> intersection\n",
    "winners = {medal.athlete for medal in medals if '100m' in medal.event} & {medal.athlete for medal in medals if '200m' in medal.event}"
   ]
  },
  {
   "cell_type": "code",
   "execution_count": 34,
   "metadata": {},
   "outputs": [
    {
     "data": {
      "text/plain": [
       "[medal(year='1896', athlete='Thomas Burke', team='USA', event='100m men'),\n",
       " medal(year='1896', athlete='Thomas Curtis', team='USA', event='110m hurdles men'),\n",
       " medal(year='1896', athlete='Edwin Flack', team='AUS', event='1500m men'),\n",
       " medal(year='1896', athlete='Thomas Burke', team='USA', event='400m men'),\n",
       " medal(year='1896', athlete='Edwin Flack', team='AUS', event='800m men'),\n",
       " medal(year='1896', athlete='Robert Garrett', team='USA', event='discus throw men'),\n",
       " medal(year='1896', athlete='Ellery Clark', team='USA', event='high jump men'),\n",
       " medal(year='1896', athlete='Ellery Clark', team='USA', event='long jump men'),\n",
       " medal(year='1896', athlete='Spyridon Louis', team='GRE', event='marathon men'),\n",
       " medal(year='1896', athlete='William Welles Hoyt', team='USA', event='pole vault men')]"
      ]
     },
     "execution_count": 34,
     "metadata": {},
     "output_type": "execute_result"
    }
   ],
   "source": [
    "medals[:10]"
   ]
  },
  {
   "cell_type": "markdown",
   "metadata": {},
   "source": [
    "Union = |; Set difference = -"
   ]
  },
  {
   "cell_type": "markdown",
   "metadata": {},
   "source": [
    "3) Create a method that gives list of medals that satisfy the criteria given in parameters"
   ]
  },
  {
   "cell_type": "code",
   "execution_count": 30,
   "metadata": {},
   "outputs": [
    {
     "data": {
      "text/plain": [
       "[medal(year='2016', athlete='Allyson Felix', team='USA', event='4x400m relay'),\n",
       " medal(year='2016', athlete='Lashawn Merritt', team='USA', event='4x400m relay'),\n",
       " medal(year='2016', athlete='Kyle Clemons', team='USA', event='4x400m relay'),\n",
       " medal(year='2016', athlete='Taylor Ellis-Watson', team='USA', event='4x400m relay'),\n",
       " medal(year='2016', athlete='Phyllis Francis', team='USA', event='4x400m relay'),\n",
       " medal(year='2016', athlete='Arman Hall', team='USA', event='4x400m relay'),\n",
       " medal(year='2016', athlete='Natasha Hastings', team='USA', event='4x400m relay'),\n",
       " medal(year='2016', athlete='Francena Mccorory', team='USA', event='4x400m relay'),\n",
       " medal(year='2016', athlete='Tony Mcquay', team='USA', event='4x400m relay'),\n",
       " medal(year='2016', athlete='Courtney Okolo', team='USA', event='4x400m relay'),\n",
       " medal(year='2016', athlete='Gil Roberts', team='USA', event='4x400m relay'),\n",
       " medal(year='2016', athlete='David Verburg', team='USA', event='4x400m relay')]"
      ]
     },
     "execution_count": 30,
     "metadata": {},
     "output_type": "execute_result"
    }
   ],
   "source": [
    "def find_medals(year=None, team=None, event=None):\n",
    "    list = medals\n",
    "    \n",
    "    if year is not None:\n",
    "        list = [medal for medal in list if medal.year == str(year)]\n",
    "    \n",
    "    if team is not None:\n",
    "        list = [medal for medal in list if medal.team == team]\n",
    "    \n",
    "    if event is not None:\n",
    "        list = [medal for medal in list if event in medal.event]\n",
    "        \n",
    "    return list\n",
    "\n",
    "find_medals(2016, event='4x4')"
   ]
  },
  {
   "cell_type": "code",
   "execution_count": 38,
   "metadata": {},
   "outputs": [],
   "source": [
    "def findmedals(**kwargs): #dictionary of all parameters - can be iterated upon\n",
    "    return [medal for medal in medals \n",
    "                    if all(str(value) in getattr(medal,key) for key, value in kwargs.items())]"
   ]
  },
  {
   "cell_type": "code",
   "execution_count": 39,
   "metadata": {},
   "outputs": [
    {
     "data": {
      "text/plain": [
       "[medal(year='2016', athlete='Allyson Felix', team='USA', event='4x400m relay'),\n",
       " medal(year='2016', athlete='Lashawn Merritt', team='USA', event='4x400m relay'),\n",
       " medal(year='2016', athlete='Kyle Clemons', team='USA', event='4x400m relay'),\n",
       " medal(year='2016', athlete='Taylor Ellis-Watson', team='USA', event='4x400m relay'),\n",
       " medal(year='2016', athlete='Phyllis Francis', team='USA', event='4x400m relay'),\n",
       " medal(year='2016', athlete='Arman Hall', team='USA', event='4x400m relay'),\n",
       " medal(year='2016', athlete='Natasha Hastings', team='USA', event='4x400m relay'),\n",
       " medal(year='2016', athlete='Francena Mccorory', team='USA', event='4x400m relay'),\n",
       " medal(year='2016', athlete='Tony Mcquay', team='USA', event='4x400m relay'),\n",
       " medal(year='2016', athlete='Courtney Okolo', team='USA', event='4x400m relay'),\n",
       " medal(year='2016', athlete='Gil Roberts', team='USA', event='4x400m relay'),\n",
       " medal(year='2016', athlete='David Verburg', team='USA', event='4x400m relay')]"
      ]
     },
     "execution_count": 39,
     "metadata": {},
     "output_type": "execute_result"
    }
   ],
   "source": [
    "findmedals(year=2016, event='4x4')"
   ]
  },
  {
   "cell_type": "raw",
   "metadata": {},
   "source": []
  },
  {
   "cell_type": "markdown",
   "metadata": {},
   "source": []
  }
 ],
 "metadata": {
  "anaconda-cloud": {},
  "kernelspec": {
   "display_name": "Python 3",
   "language": "python",
   "name": "python3"
  },
  "language_info": {
   "codemirror_mode": {
    "name": "ipython",
    "version": 3
   },
   "file_extension": ".py",
   "mimetype": "text/x-python",
   "name": "python",
   "nbconvert_exporter": "python",
   "pygments_lexer": "ipython3",
   "version": "3.6.10"
  }
 },
 "nbformat": 4,
 "nbformat_minor": 1
}
