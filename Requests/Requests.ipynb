{
 "cells": [
  {
   "cell_type": "markdown",
   "metadata": {},
   "source": [
    "### Python module/package imports for this chapter"
   ]
  },
  {
   "cell_type": "code",
   "execution_count": 1,
   "metadata": {},
   "outputs": [],
   "source": [
    "import os, sys, collections, re, json, io, base64"
   ]
  },
  {
   "cell_type": "code",
   "execution_count": 2,
   "metadata": {},
   "outputs": [],
   "source": [
    "import numpy as np\n",
    "\n",
    "import matplotlib\n",
    "import matplotlib.pyplot as pp\n",
    "import matplotlib.animation as anim\n",
    "from mpl_toolkits.basemap import Basemap\n",
    "\n",
    "%matplotlib inline"
   ]
  },
  {
   "cell_type": "code",
   "execution_count": 6,
   "metadata": {},
   "outputs": [],
   "source": [
    "import requests\n",
    "import bs4      # BeautifulSoup 4"
   ]
  },
  {
   "cell_type": "code",
   "execution_count": 8,
   "metadata": {},
   "outputs": [],
   "source": [
    "import IPython.display\n",
    "import PIL, PIL.Image, PIL.ImageOps, PIL.ImageEnhance  # Python Imaging Library - now \"pillow\""
   ]
  },
  {
   "cell_type": "markdown",
   "metadata": {},
   "source": [
    "**March 2020 update**: the `mars.nasa.gov` portal has been restyled, so it now looks different than in the video. Furthermore, the website now uses JavaScript to populate the raw-image query pages dynamically, so that we cannot load those pages and find image URLs. In video 03_05, we will use the NASA server `api.nasa.gov` to obtain the information that we need.\n",
    "\n",
    "However, for the purposes of this video (exemplifying HTTP requests with the `requests` package), the code given below and used in the video is still fine, even if the resulting webpages contain different information."
   ]
  },
  {
   "cell_type": "markdown",
   "metadata": {},
   "source": [
    "## Downloading web content with `requests`"
   ]
  },
  {
   "cell_type": "code",
   "execution_count": 9,
   "metadata": {},
   "outputs": [],
   "source": [
    "images = requests.get('https://mars.nasa.gov/msl/multimedia/raw-images/?order=sol+desc%2Cinstrument_sort+asc%2Csample_type_sort+asc%2C+date_taken+desc&per_page=50&page=0&mission=msl&af=FHAZ_RIGHT_A%7CFHAZ_LEFT_A%7CFHAZ_RIGHT_B%7CFHAZ_LEFT_B%2C%2C%2C')"
   ]
  },
  {
   "cell_type": "code",
   "execution_count": 10,
   "metadata": {},
   "outputs": [
    {
     "data": {
      "text/plain": [
       "True"
      ]
     },
     "execution_count": 10,
     "metadata": {},
     "output_type": "execute_result"
    }
   ],
   "source": [
    "images.ok"
   ]
  },
  {
   "cell_type": "code",
   "execution_count": 11,
   "metadata": {},
   "outputs": [
    {
     "data": {
      "text/plain": [
       "'https://mars.nasa.gov/msl/multimedia/raw-images/?order=sol+desc%2Cinstrument_sort+asc%2Csample_type_sort+asc%2C+date_taken+desc&per_page=50&page=0&mission=msl&af=FHAZ_RIGHT_A%7CFHAZ_LEFT_A%7CFHAZ_RIGHT_B%7CFHAZ_LEFT_B%2C%2C%2C'"
      ]
     },
     "execution_count": 11,
     "metadata": {},
     "output_type": "execute_result"
    }
   ],
   "source": [
    "images.url"
   ]
  },
  {
   "cell_type": "code",
   "execution_count": 12,
   "metadata": {},
   "outputs": [
    {
     "data": {
      "text/plain": [
       "<Response [200]>"
      ]
     },
     "execution_count": 12,
     "metadata": {},
     "output_type": "execute_result"
    }
   ],
   "source": [
    "images"
   ]
  },
  {
   "cell_type": "code",
   "execution_count": 13,
   "metadata": {},
   "outputs": [
    {
     "data": {
      "text/plain": [
       "{'Content-Type': 'text/html; charset=utf-8', 'Transfer-Encoding': 'chunked', 'Connection': 'keep-alive', 'Date': 'Tue, 18 Aug 2020 04:18:28 GMT', 'Server': 'Apache', 'Cache-Control': 'max-age=900, public, public', 'X-Frame-Options': 'ALLOWALL', 'X-Runtime': '0.395355', 'X-Request-Id': 'd2d057cd-4384-4f8f-82d7-9a43e9d78491', 'X-Powered-By': 'Phusion Passenger', 'Strict-Transport-Security': 'max-age=31536000; includeSubDomains; preload', 'ETag': 'W/\"155c1daf01bbc975ffb14411d8e8fe22\"', 'Status': '200 OK', 'X-Cache': 'Miss from cloudfront', 'Via': '1.1 a75dce573e80f2f2d03981a80f910c42.cloudfront.net (CloudFront)', 'X-Amz-Cf-Pop': 'IAH50-C1', 'X-Amz-Cf-Id': 'lFRgd0uinecH2I7UHjxiJuydR0-ZdRWFZj1-hR0cM7zAWpBtRgU-mg=='}"
      ]
     },
     "execution_count": 13,
     "metadata": {},
     "output_type": "execute_result"
    }
   ],
   "source": [
    "images.headers"
   ]
  },
  {
   "cell_type": "code",
   "execution_count": 14,
   "metadata": {},
   "outputs": [
    {
     "data": {
      "text/plain": [
       "200"
      ]
     },
     "execution_count": 14,
     "metadata": {},
     "output_type": "execute_result"
    }
   ],
   "source": [
    "images.status_code"
   ]
  },
  {
   "cell_type": "code",
   "execution_count": 15,
   "metadata": {},
   "outputs": [
    {
     "data": {
      "text/plain": [
       "'<!DOCTYPE html>\\n<html lang=\\'en\\' xml:lang=\\'en\\' xmlns=\\'http://www.w3.org/1999/xhtml\\'>\\n<head>\\n<meta content=\\'text/html; charset=utf-8\\' http-equiv=\\'Content-Type\\'>\\n<!-- Always force latest IE rendering engine or request Chrome Frame -->\\n<meta content=\\'IE=edge,chrome=1\\' http-equiv=\\'X-UA-Compatible\\'>\\n<!-- Responsiveness -->\\n<meta content=\\'width=device-width, initial-scale=1.0\\' name=\\'viewport\\'>\\n<!-- Favicon -->\\n<link href=\\'/apple-touch-icon.png\\' rel=\\'apple-touch-icon\\' sizes=\\'180x180\\'>\\n<link href=\\'/favicon-32x32.png\\' rel=\\'icon\\' sizes=\\'32x32\\' type=\\'image/png\\'>\\n<link href=\\'/favicon-16x16.png\\' rel=\\'icon\\' sizes=\\'16x16\\' type=\\'image/png\\'>\\n<link href=\\'/manifest.json\\' rel=\\'manifest\\'>\\n<link color=\\'#e48b55\\' href=\\'/safari-pinned-tab.svg\\' rel=\\'mask-icon\\'>\\n<meta content=\\'#000000\\' name=\\'theme-color\\'>\\n\\n<meta name=\"csrf-param\" content=\"authenticity_token\" />\\n<meta name=\"csrf-token\" content=\"ahKBgrbdZ81MJuPMFwUoGl2wdUNHlHF5g14MFa5jPGakDnhjSzvvIaqqdYJr0s7r63K7XQNwZEcO6UK5GNb7Bw==\" />\\n<title>Raw Images | Multimedia – NASA’s Mars Exploration Program </title>\\n<meta content=\\'NASA’s Mars Exploration Program \\' property=\\'og:site_name\\'>\\n<meta content=\\'mars.nasa.gov\\' name=\\'author\\'>\\n<meta content=\\'Curiosity, raw images, multimedia\\' name=\\'keywords\\'>\\n<meta content=\"View raw images taken by NASA\\'s Curiosity Mars Rover.\" name=\\'description\\'>\\n<meta content=\"View raw images taken by NASA\\'s Curiosity Mars Rover.\" property=\\'og:description\\'>\\n<meta content=\\'Raw Images | Multimedia – NASA’s Mars Exploration Program \\' property=\\'og:title\\'>\\n<meta content=\\'https://mars.nasa.gov/msl/multimedia/raw-images?order=sol+desc%2Cinstrument_sort+asc%2Csample_type_sort+asc%2C+date_taken+desc&amp;per_page=50&amp;page=0&amp;mission=msl&amp;af=FHAZ_RIGHT_A%7CFHAZ_LEFT_A%7CFHAZ_RIGHT_B%7CFHAZ_LEFT_B%2C%2C%2C\\' property=\\'og:url\\'>\\n<meta content=\\'article\\' property=\\'og:type\\'>\\n<meta content=\\'2019-08-08 23:48:27 UTC\\' property=\\'og:updated_time\\'>\\n<meta content=\\'https://mars.nasa.gov/system/site_config_values/meta_share_images/1_mars-nasa-gov.jpg\\' property=\\'og:image\\'>\\n<meta content=\\'https://mars.nasa.gov/system/site_config_values/meta_share_images/1_mars-nasa-gov.jpg\\' name=\\'twitter:image\\'>\\n<link href=\\'https://mars.nasa.gov/system/site_config_values/meta_share_images/1_mars-nasa-gov.jpg\\' rel=\\'image_src\\'>\\n\\n<meta content=\\'195570401081308\\' property=\\'fb:app_id\\'>\\n<link href=\\'https://fonts.googleapis.com/css?family=Montserrat:200,300,400,500,600,700|Raleway:300,400\\' rel=\\'stylesheet\\'>\\n\\n<link rel=\"stylesheet\" media=\"all\" href=\"/assets/public_manifest-9467122247163ea3bf3012b71b5b39bf2bce26b82917aca331fb838f7f4a4b7e.css\" />\\n<link rel=\"stylesheet\" media=\"screen\" href=\"/assets/mbcms/vendor/jquery.fancybox3-d5d81bdfc05a59e4ea72bca1d8b7fcc399bd3b61f7c06af95a8a48795df69d7a.css\" />\\n<link rel=\"stylesheet\" media=\"print\" href=\"/assets/gulp/print-240f8bfaa7f6402dfd6c49ee3c1ffea57a89ddd4c8c90e2f2a5c7d63c5753e32.css\" />\\n<script src=\"/assets/public_manifest-b7762ffb108de93fcd0be3bfd82579b100241cc4ee1c087af5f886c0903244cf.js\"></script>\\n<script src=\"/assets/mbcms/vendor/jquery.fancybox3-bd48876205805faa43a79e74b656191a4ad37809923b4f3247b571ba82d4458c.js\"></script>\\n<script src=\"/assets/mb_manifest-a0ae601bc18c852649e350709ab440161da58529f782ae84172c21f8ea27b714.js\"></script>\\n\\n<!--[if gt IE 8]><!-->\\n<script src=\"/assets/not_ie8_manifest.js\"></script>\\n<!--[if !IE]>-->\\n<script src=\"/assets/not_ie8_manifest.js\"></script>\\n<!--<![endif]-->\\n<!-- /twitter cards -->\\n<meta content=\\'summary_large_image\\' name=\\'twitter:card\\'>\\n<meta content=\\'Raw Images\\' name=\\'twitter:title\\'>\\n<meta content=\"View raw images taken by NASA\\'s Curiosity Mars Rover.\" name=\\'twitter:description\\'>\\n<meta content=\\'https://mars.nasa.gov/system/site_config_values/meta_share_images/1_mars-nasa-gov.jpg\\' name=\\'twitter:image\\'>\\n</head>\\n<body class=\\'megasection_nav_present msl\\' id=\\'raw-images\\'>\\n<svg display=\"none\" width=\"0\" height=\"0\">  \\n  \\n  <symbol id=\"circle_plus\" height=\"30\" viewBox=\"0 0 30 30\" width=\"30\">\\n    <g fill-rule=\"evenodd\" transform=\"translate(1 1)\">\\n      <circle cx=\"14\" cy=\"14\" fill=\"#fff\" fill-opacity=\".1\" fill-rule=\"nonzero\" r=\"14\" stroke=\"inherit\" stroke-width=\"1\"/>\\n      <path class=\"the_plus\" d=\"m18.856 12.96v1.738h-4.004v3.938h-1.848v-3.938h-4.004v-1.738h4.004v-3.96h1.848v3.96z\" fill=\"inherit\"  stroke-width=\"0\"/>\\n    </g>\\n  </symbol>\\n  \\n  <symbol id=\"circle_arrow\" height=\"30\" viewBox=\"0 0 30 30\" width=\"30\" xmlns=\"http://www.w3.org/2000/svg\">\\n    <g transform=\"translate(1 1)\"><circle cx=\"14\" cy=\"14\" fill=\"#fff\" fill-opacity=\".1\" r=\"14\" stroke=\"inherit\" stroke-width=\"1\"/>\\n    <path class=\"the_arrow\" d=\"m8.5 15.00025h7.984l-2.342 2.42c-.189.197-.189.518 0 .715l.684.717c.188.197.494.197.684 0l4.35-4.506c.188-.199.188-.52 0-.717l-4.322-4.48c-.189-.199-.496-.199-.684 0l-.684.716c-.189.197-.189.519 0 .716l2.341 2.419h-8.011c-.276 0-.5.223-.5.5v1c0 .275.224.5.5.5z\" stroke-width=\"0\" fill=\"inherit\"/>\\n    </g>\\n  </symbol>\\n  \\n  <symbol id=\"circle_close\" height=\"30\" viewBox=\"0 0 30 30\" width=\"30\">\\n    <g fill-rule=\"evenodd\" transform=\"translate(1 1)\">\\n      <circle cx=\"14\" cy=\"14\" fill=\"blue\" fill-opacity=\"1\" fill-rule=\"nonzero\" r=\"14\" stroke=\"inherit\" stroke-width=\"1\"/>\\n      <path class=\"the_plus\" d=\"m18.856 12.96v1.738h-4.004v3.938h-1.848v-3.938h-4.004v-1.738h4.004v-3.96h1.848v3.96z\" fill=\"inherit\"  stroke-width=\"0\"/>\\n    </g>\\n  </symbol>\\n  \\n  <symbol id=\"circle_close_hover\" height=\"30\" viewBox=\"0 0 30 30\" width=\"30\">\\n    <g fill-rule=\"evenodd\" transform=\"translate(1 1)\">\\n      <circle cx=\"14\" cy=\"14\" fill=\"white\" fill-opacity=\"1\" fill-rule=\"nonzero\" r=\"14\" stroke=\"inherit\" stroke-width=\"1\"/>\\n      <path class=\"the_plus\" d=\"m18.856 12.96v1.738h-4.004v3.938h-1.848v-3.938h-4.004v-1.738h4.004v-3.96h1.848v3.96z\" fill=\"inherit\"  stroke-width=\"0\"/>\\n    </g>\\n  </symbol>\\n\\n  <symbol id=\"chevron_down\" height=\"6\" viewBox=\"0 0 10 6\" width=\"10\" xmlns=\"http://www.w3.org/2000/svg\">\\n    <path d=\"m59 7v2.72727273l5 3.27272727 5-3.27272727v-2.72727273l-5 3.2727273z\" transform=\"translate(-59 -7)\"/>\\n  </symbol>\\n\\n  <symbol id=\"gear\" height=\"16\" viewBox=\"0 0 16 16\" width=\"16\" xmlns=\"http://www.w3.org/2000/svg\">\\n    <path d=\"m68 9h-1.09c-.15-.91-.5-1.75-1.021-2.471l.761-.77c.39-.39.39-1.029 0-1.42-.391-.39-1.021-.39-1.41 0l-.771.77c-.719-.519-1.469-.869-2.469-1.019v-1.09c0-.55-.45-1-1-1s-1 .45-1 1v1.09c-1 .15-1.75.5-2.47 1.02l-.77-.77c-.389-.39-1.029-.39-1.42 0-.39.391-.39 1.03 0 1.42l.771.77c-.521.72-.871 1.56-1.021 2.47h-1.09c-.55 0-1 .48-1 1.029 0 .551.45.971 1.12.971h.97c.15.91.5 1.75 1.021 2.471l-.771.769c-.39.39-.39 1.029 0 1.42.391.39 1.021.39 1.41 0l.78-.77c.72.52 1.47.87 2.47 1.02v1.09c0 .55.45 1 1 1s1-.45 1-1v-1.09c1-.15 1.75-.5 2.47-1.02l.771.77c.391.39 1.02.39 1.41 0 .39-.391.39-1.03 0-1.42l-.761-.76c.51-.72.87-1.56 1.02-2.48h1.09c.55 0 1-.45 1-1s-.45-1-1-1zm-7 4c-1.66 0-3-1.35-3-3s1.34-3 3-3c1.65 0 3 1.35 3 3s-1.35 3-3 3z\" fill=\"#a79693\" transform=\"translate(-53 -2)\"/>\\n  </symbol>\\n\\n</svg>\\n\\n\\n\\n<div data-react-class=\"BrowseHappier\" data-react-props=\"{&quot;gt&quot;:1,&quot;lt&quot;:11}\" data-react-cache-id=\"BrowseHappier-0\"></div>\\n<div data-react-class=\"HiPO\" data-react-props=\"{}\" data-react-cache-id=\"HiPO-0\"></div>\\n<div id=\\'main_container\\'>\\n<div id=\\'site_body\\'>\\n<div class=\\'site_header_area\\'>\\n<header class=\\'site_header\\'>\\n<div class=\\'brand_area\\'>\\n<div class=\\'brand1\\'>\\n<a class=\\'nasa_logo\\' href=\\'http://www.nasa.gov\\' target=\\'_blank\\' title=\\'visit nasa.gov\\'>NASA</a>\\n</div>\\n<div class=\\'brand2\\'>\\n<a class=\\'top_logo\\' href=\\'https://science.nasa.gov/\\' target=\\'_blank\\' title=\\'Explore NASA Science\\'>NASA Science</a>\\n<a class=\\'sub_logo\\' href=\\'/mars-exploration/#\\' title=\\'Mars\\'>Mars Exploration Program</a>\\n</div>\\n<img alt=\\'\\' class=\\'print_only print_logo\\' src=\\'/assets/logo_mars_trio_black@2x.png\\'>\\n</div>\\n\\n<a class=\\'visuallyhidden focusable\\' href=\\'#page\\'>Skip Navigation</a>\\n<div class=\\'right_header_container\\'>\\n<a class=\\'menu_button\\' href=\\'javascript:void(0);\\' id=\\'menu_button\\'>\\n<span class=\\'menu_icon\\'>\\nmenu\\n</span>\\n</a>\\n<a class=\\'modal_close\\' id=\\'modal_close\\'>\\n<span class=\\'modal_close_icon\\'></span>\\n</a>\\n<div class=\\'nav_area\\'>\\n<div id=\\'site_nav_container\\'>\\n<nav data-react-class=\"Meganav\" data-react-props=\"{&quot;nav_items&quot;:[{&quot;name&quot;:&quot;Mars Now&quot;,&quot;style&quot;:&quot;icon&quot;,&quot;li_class&quot;:&quot;nav_icon mars_now&quot;,&quot;target&quot;:&quot;_self&quot;,&quot;link&quot;:&quot;/explore/mars-now&quot;,&quot;svg_icon_id&quot;:&quot;nav_icon&quot;,&quot;id&quot;:261,&quot;features&quot;:[{&quot;title&quot;:&quot;Mars Now&quot;,&quot;body&quot;:&quot;View a 3D visualization of all the missions exploring the Red Planet&quot;,&quot;image_src&quot;:&quot;/system/basic_html_elements/225_mars_now_nav.jpg&quot;,&quot;link&quot;:&quot;/explore/mars-now/&quot;,&quot;target&quot;:&quot;_self&quot;,&quot;categories&quot;:[]}],&quot;title&quot;:&quot;&quot;,&quot;short_description&quot;:&quot;View the current location and spacecraft communications activity of operating landers, rovers and orbiters using the NASA’s Mars Relay Network.&quot;},{&quot;name&quot;:&quot;The Red Planet&quot;,&quot;link&quot;:&quot;/#red_planet&quot;,&quot;target&quot;:&quot;_self&quot;,&quot;sections&quot;:[{&quot;items&quot;:[{&quot;name&quot;:&quot;Dashboard&quot;,&quot;link&quot;:&quot;/#red_planet/0&quot;,&quot;target&quot;:&quot;_self&quot;,&quot;id&quot;:9},{&quot;name&quot;:&quot;Science Goals&quot;,&quot;link&quot;:&quot;/#red_planet/1&quot;,&quot;target&quot;:&quot;_self&quot;,&quot;id&quot;:13},{&quot;name&quot;:&quot;The Planet&quot;,&quot;link&quot;:&quot;/#red_planet/2&quot;,&quot;target&quot;:&quot;_self&quot;,&quot;id&quot;:14},{&quot;name&quot;:&quot;Atmosphere&quot;,&quot;link&quot;:&quot;/#red_planet/3&quot;,&quot;target&quot;:&quot;_self&quot;,&quot;id&quot;:16},{&quot;name&quot;:&quot;Astrobiology&quot;,&quot;link&quot;:&quot;/#red_planet/4&quot;,&quot;target&quot;:&quot;_self&quot;,&quot;id&quot;:17},{&quot;name&quot;:&quot;Past, Present, Future, Timeline&quot;,&quot;link&quot;:&quot;/#red_planet/5&quot;,&quot;target&quot;:&quot;_self&quot;,&quot;id&quot;:18}]}],&quot;id&quot;:3,&quot;meganav_style&quot;:&quot;&quot;,&quot;features&quot;:[],&quot;short_description&quot;:null},{&quot;name&quot;:&quot;The Program&quot;,&quot;link&quot;:&quot;/#mars_exploration_program&quot;,&quot;target&quot;:&quot;_self&quot;,&quot;sections&quot;:[{&quot;items&quot;:[{&quot;name&quot;:&quot;Mission Statement&quot;,&quot;link&quot;:&quot;/#mars_exploration_program/0&quot;,&quot;target&quot;:&quot;_self&quot;,&quot;id&quot;:8},{&quot;name&quot;:&quot;About the Program&quot;,&quot;link&quot;:&quot;/#mars_exploration_program/1&quot;,&quot;target&quot;:&quot;_self&quot;,&quot;id&quot;:42},{&quot;name&quot;:&quot;Organization&quot;,&quot;link&quot;:&quot;/#mars_exploration_program/2&quot;,&quot;target&quot;:&quot;_self&quot;,&quot;id&quot;:43},{&quot;name&quot;:&quot;Why Mars?&quot;,&quot;link&quot;:&quot;/#mars_exploration_program/3&quot;,&quot;target&quot;:&quot;_self&quot;,&quot;id&quot;:51},{&quot;name&quot;:&quot;Research Programs&quot;,&quot;link&quot;:&quot;/#mars_exploration_program/4&quot;,&quot;target&quot;:&quot;_self&quot;,&quot;id&quot;:44},{&quot;name&quot;:&quot;Planetary Resources&quot;,&quot;link&quot;:&quot;/#mars_exploration_program/5&quot;,&quot;target&quot;:&quot;_self&quot;,&quot;id&quot;:52},{&quot;name&quot;:&quot;Technologies&quot;,&quot;link&quot;:&quot;/#mars_exploration_program/6&quot;,&quot;target&quot;:&quot;_self&quot;,&quot;id&quot;:56}]}],&quot;id&quot;:2,&quot;meganav_style&quot;:&quot;&quot;,&quot;features&quot;:[],&quot;short_description&quot;:null},{&quot;name&quot;:&quot;News \\\\u0026 Events&quot;,&quot;link&quot;:&quot;/#news_and_events&quot;,&quot;target&quot;:&quot;_self&quot;,&quot;sections&quot;:[{&quot;items&quot;:[{&quot;name&quot;:&quot;News&quot;,&quot;link&quot;:&quot;/news&quot;,&quot;target&quot;:&quot;_self&quot;,&quot;id&quot;:92},{&quot;name&quot;:&quot;Events&quot;,&quot;link&quot;:&quot;/events&quot;,&quot;target&quot;:&quot;_self&quot;,&quot;id&quot;:93}]}],&quot;id&quot;:4,&quot;meganav_style&quot;:&quot;&quot;,&quot;features&quot;:[],&quot;short_description&quot;:null},{&quot;name&quot;:&quot;Multimedia&quot;,&quot;link&quot;:&quot;/#multimedia&quot;,&quot;target&quot;:&quot;_self&quot;,&quot;sections&quot;:[{&quot;items&quot;:[{&quot;name&quot;:&quot;Images&quot;,&quot;link&quot;:&quot;/multimedia/images/&quot;,&quot;target&quot;:&quot;_self&quot;,&quot;id&quot;:90},{&quot;name&quot;:&quot;Videos&quot;,&quot;link&quot;:&quot;/multimedia/videos/&quot;,&quot;target&quot;:&quot;_self&quot;,&quot;id&quot;:91},{&quot;name&quot;:&quot;More Resources&quot;,&quot;link&quot;:&quot;/multimedia/more-resources/&quot;,&quot;target&quot;:&quot;_self&quot;,&quot;id&quot;:413}]}],&quot;id&quot;:5,&quot;meganav_style&quot;:&quot;&quot;,&quot;features&quot;:[],&quot;short_description&quot;:null},{&quot;name&quot;:&quot;Missions&quot;,&quot;link&quot;:&quot;/#missions_gallery_subnav&quot;,&quot;target&quot;:&quot;_self&quot;,&quot;sections&quot;:[{&quot;items&quot;:[{&quot;name&quot;:&quot;Past&quot;,&quot;link&quot;:&quot;/mars-exploration/missions/?category=167&quot;,&quot;target&quot;:&quot;_self&quot;,&quot;id&quot;:38},{&quot;name&quot;:&quot;Present&quot;,&quot;link&quot;:&quot;/mars-exploration/missions/?category=170&quot;,&quot;target&quot;:&quot;_self&quot;,&quot;id&quot;:59},{&quot;name&quot;:&quot;Future&quot;,&quot;link&quot;:&quot;/mars-exploration/missions/?category=171&quot;,&quot;target&quot;:&quot;_self&quot;,&quot;id&quot;:60},{&quot;name&quot;:&quot;International Partners&quot;,&quot;link&quot;:&quot;/mars-exploration/partners&quot;,&quot;target&quot;:&quot;_self&quot;,&quot;id&quot;:40}]}],&quot;id&quot;:6,&quot;meganav_style&quot;:&quot;&quot;,&quot;features&quot;:[],&quot;short_description&quot;:null},{&quot;name&quot;:&quot;More&quot;,&quot;link&quot;:&quot;/#more&quot;,&quot;target&quot;:&quot;_self&quot;,&quot;sections&quot;:[],&quot;id&quot;:7,&quot;meganav_style&quot;:&quot;&quot;,&quot;features&quot;:[],&quot;short_description&quot;:null}],&quot;gallery_subnav_items&quot;:[{&quot;thumb&quot;:&quot;/system/missions/list_view_images/23_PIA23764-RoverNamePlateonMars-320x240.jpg&quot;,&quot;id&quot;:23,&quot;title&quot;:&quot;Mars 2020 Perseverance Rover&quot;,&quot;description&quot;:&quot;A mission to investigate key questions about potential life on Mars. &quot;,&quot;date&quot;:&quot;July 17, 2020&quot;,&quot;url&quot;:&quot;/mars-exploration/missions/mars2020/&quot;,&quot;link_text&quot;:&quot;&quot;,&quot;target&quot;:&quot;_blank&quot;,&quot;mi_traveled&quot;:null,&quot;gallery_subnav_link&quot;:&quot;https://mars.nasa.gov/mars2020/&quot;},{&quot;thumb&quot;:&quot;/system/missions/list_view_images/2_PIA14175-thmfeat.jpg&quot;,&quot;id&quot;:2,&quot;title&quot;:&quot;Curiosity Rover&quot;,&quot;description&quot;:&quot;The largest and most capable rover ever sent to Mars.&quot;,&quot;date&quot;:&quot;November 26, 2011&quot;,&quot;url&quot;:&quot;/mars-exploration/missions/mars-science-laboratory&quot;,&quot;link_text&quot;:&quot;&quot;,&quot;target&quot;:&quot;_blank&quot;,&quot;mi_traveled&quot;:14.33,&quot;gallery_subnav_link&quot;:&quot;https://mars.nasa.gov/msl/home/&quot;},{&quot;thumb&quot;:&quot;/system/missions/list_view_images/21_PIA22743-320x240.jpg&quot;,&quot;id&quot;:21,&quot;title&quot;:&quot;InSight Lander&quot;,&quot;description&quot;:&quot;A mission to study the deep interior of Mars. &quot;,&quot;date&quot;:&quot;November 26, 2018&quot;,&quot;url&quot;:&quot;/mars-exploration/missions/insight/&quot;,&quot;link_text&quot;:&quot;&quot;,&quot;target&quot;:&quot;_blank&quot;,&quot;mi_traveled&quot;:null,&quot;gallery_subnav_link&quot;:&quot;https://mars.nasa.gov/insight/&quot;},{&quot;thumb&quot;:&quot;/system/missions/list_view_images/6_maven_320x240.jpg&quot;,&quot;id&quot;:6,&quot;title&quot;:&quot;MAVEN&quot;,&quot;description&quot;:&quot;Measures Mars&#39; atmosphere to understand its climate change.&quot;,&quot;date&quot;:&quot;November 18, 2013&quot;,&quot;url&quot;:&quot;/mars-exploration/missions/maven&quot;,&quot;link_text&quot;:&quot;&quot;,&quot;target&quot;:&quot;_blank&quot;,&quot;mi_traveled&quot;:null,&quot;gallery_subnav_link&quot;:&quot;https://mars.nasa.gov/maven/&quot;},{&quot;thumb&quot;:&quot;/system/missions/list_view_images/8_MRO_320x240.jpg&quot;,&quot;id&quot;:8,&quot;title&quot;:&quot;Mars Reconnaissance Orbiter&quot;,&quot;description&quot;:&quot;Takes high-resolution imagery of Martian terrain with extraordinary clarity. &quot;,&quot;date&quot;:&quot;August 12, 2012&quot;,&quot;url&quot;:&quot;/mars-exploration/missions/mars-reconnaissance-orbiter&quot;,&quot;link_text&quot;:&quot;&quot;,&quot;target&quot;:&quot;_blank&quot;,&quot;mi_traveled&quot;:null,&quot;gallery_subnav_link&quot;:&quot;https://mars.nasa.gov/mro/&quot;},{&quot;thumb&quot;:&quot;/system/missions/list_view_images/5_mars_odyssey320x240.jpg&quot;,&quot;id&quot;:5,&quot;title&quot;:&quot;2001 Mars Odyssey&quot;,&quot;description&quot;:&quot;NASA&#39;s longest-lasting spacecraft at Mars. &quot;,&quot;date&quot;:&quot;April  7, 2001&quot;,&quot;url&quot;:&quot;/mars-exploration/missions/odyssey&quot;,&quot;link_text&quot;:&quot;&quot;,&quot;target&quot;:&quot;_blank&quot;,&quot;mi_traveled&quot;:null,&quot;gallery_subnav_link&quot;:&quot;https://mars.nasa.gov/odyssey/&quot;}],&quot;search&quot;:true,&quot;search_placeholder&quot;:{&quot;placeholder&quot;:&quot;&quot;},&quot;highlight_current&quot;:{&quot;highlight&quot;:true,&quot;current_id&quot;:328,&quot;parent_ids&quot;:[&quot;257&quot;,&quot;327&quot;]},&quot;search_submit&quot;:&quot;/search/&quot;}\" data-react-cache-id=\"Meganav-0\" class=\"site_nav\"></nav>\\n</div>\\n</div>\\n</div>\\n</header>\\n</div>\\n<div id=\\'sticky_nav_spacer\\'></div>\\n\\n<div id=\\'page\\'>\\n<div class=\\'page_cover\\'></div>\\n<!-- title to go in the page_header -->\\n<section class=\\'main_feature\\'>\\n<div alt=\\'Mars\\xa0Curiosity Rover\\' class=\\'custom_banner_container\\' style=\"background-image: url(\\'/internal_resources/584\\');\">\\n<div class=\\'banner_header_overlay\\'>\\n<h1 class=\\'article_title\\'>\\nMars Curiosity Rover\\n</h1>\\n</div>\\n<div class=\\'gradient_container_top\\'></div>\\n<div class=\\'gradient_container_bottom\\'></div>\\n</div>\\n</section>\\n\\n<div data-react-class=\"MegasectionNav\" data-react-props=\"{&quot;nav&quot;:{&quot;title&quot;:&quot;Curiosity&quot;,&quot;url&quot;:&quot;/msl/home&quot;,&quot;items&quot;:[{&quot;name&quot;:&quot;Home&quot;,&quot;link&quot;:&quot;/msl/home&quot;,&quot;current&quot;:false,&quot;target&quot;:&quot;_self&quot;,&quot;items&quot;:[]},{&quot;name&quot;:&quot;Mission&quot;,&quot;link&quot;:&quot;/msl/mission/overview&quot;,&quot;current&quot;:false,&quot;target&quot;:&quot;_self&quot;,&quot;items&quot;:[{&quot;name&quot;:&quot;Overview&quot;,&quot;link&quot;:&quot;/msl/mission/overview&quot;,&quot;current&quot;:false,&quot;target&quot;:&quot;_self&quot;},{&quot;name&quot;:&quot;Science&quot;,&quot;link&quot;:&quot;/msl/mission/science/summary&quot;,&quot;current&quot;:false,&quot;target&quot;:&quot;_self&quot;},{&quot;name&quot;:&quot;Communications with Earth&quot;,&quot;link&quot;:&quot;/msl/mission/communications&quot;,&quot;current&quot;:false,&quot;target&quot;:&quot;_self&quot;},{&quot;name&quot;:&quot;Mission Team&quot;,&quot;link&quot;:&quot;/msl/mission/team&quot;,&quot;current&quot;:false,&quot;target&quot;:&quot;_self&quot;},{&quot;name&quot;:&quot;Where is Curiosity?&quot;,&quot;link&quot;:&quot;/msl/mission/where-is-the-rover&quot;,&quot;current&quot;:false,&quot;target&quot;:&quot;_self&quot;},{&quot;name&quot;:&quot;Mission Updates&quot;,&quot;link&quot;:&quot;/msl/mission-updates&quot;,&quot;current&quot;:false,&quot;target&quot;:&quot;_self&quot;}]},{&quot;name&quot;:&quot;Timeline&quot;,&quot;link&quot;:&quot;/msl/timeline/summary&quot;,&quot;current&quot;:false,&quot;target&quot;:&quot;_self&quot;,&quot;items&quot;:[{&quot;name&quot;:&quot;Summary&quot;,&quot;link&quot;:&quot;/msl/timeline/summary&quot;,&quot;current&quot;:false,&quot;target&quot;:&quot;_self&quot;},{&quot;name&quot;:&quot;Pre-Launch&quot;,&quot;link&quot;:&quot;/msl/timeline/prelaunch/summary/&quot;,&quot;current&quot;:false,&quot;target&quot;:&quot;_self&quot;},{&quot;name&quot;:&quot;Launch&quot;,&quot;link&quot;:&quot;/msl/timeline/launch/summary&quot;,&quot;current&quot;:false,&quot;target&quot;:&quot;_self&quot;},{&quot;name&quot;:&quot;Cruise&quot;,&quot;link&quot;:&quot;/msl/timeline/cruise&quot;,&quot;current&quot;:false,&quot;target&quot;:&quot;_self&quot;},{&quot;name&quot;:&quot;Approach&quot;,&quot;link&quot;:&quot;/msl/timeline/approach&quot;,&quot;current&quot;:false,&quot;target&quot;:&quot;_self&quot;},{&quot;name&quot;:&quot;Entry, Descent, and Landing&quot;,&quot;link&quot;:&quot;/msl/timeline/edl&quot;,&quot;current&quot;:false,&quot;target&quot;:&quot;_self&quot;},{&quot;name&quot;:&quot;Surface Operations&quot;,&quot;link&quot;:&quot;/msl/timeline/surface-operations&quot;,&quot;current&quot;:false,&quot;target&quot;:&quot;_self&quot;}]},{&quot;name&quot;:&quot;Spacecraft&quot;,&quot;link&quot;:&quot;/msl/spacecraft/rover/&quot;,&quot;current&quot;:false,&quot;target&quot;:&quot;_self&quot;,&quot;items&quot;:[{&quot;name&quot;:&quot;Rover&quot;,&quot;link&quot;:&quot;/msl/spacecraft/rover/summary&quot;,&quot;current&quot;:false,&quot;target&quot;:&quot;_self&quot;},{&quot;name&quot;:&quot;Instruments&quot;,&quot;link&quot;:&quot;/msl/spacecraft/instruments/summary&quot;,&quot;current&quot;:false,&quot;target&quot;:&quot;_self&quot;},{&quot;name&quot;:&quot;Launch Vehicle&quot;,&quot;link&quot;:&quot;/msl/spacecraft/launch-vehicle/summary&quot;,&quot;current&quot;:false,&quot;target&quot;:&quot;_self&quot;},{&quot;name&quot;:&quot;Getting to Mars&quot;,&quot;link&quot;:&quot;/msl/spacecraft/getting-to-mars&quot;,&quot;current&quot;:false,&quot;target&quot;:&quot;_self&quot;}]},{&quot;name&quot;:&quot;News&quot;,&quot;link&quot;:&quot;/msl/news&quot;,&quot;current&quot;:false,&quot;target&quot;:&quot;_self&quot;,&quot;items&quot;:[{&quot;name&quot;:&quot;What&#39;s New&quot;,&quot;link&quot;:&quot;/msl/news&quot;,&quot;current&quot;:false,&quot;target&quot;:&quot;_self&quot;},{&quot;name&quot;:&quot;Newsroom&quot;,&quot;link&quot;:&quot;/msl/news/newsroom&quot;,&quot;current&quot;:false,&quot;target&quot;:&quot;_self&quot;}]},{&quot;name&quot;:&quot;Multimedia&quot;,&quot;link&quot;:&quot;/msl/multimedia/images&quot;,&quot;current&quot;:true,&quot;target&quot;:&quot;_self&quot;,&quot;items&quot;:[{&quot;name&quot;:&quot;Raw Images&quot;,&quot;link&quot;:&quot;/msl/multimedia/raw-images&quot;,&quot;current&quot;:false,&quot;target&quot;:&quot;_self&quot;},{&quot;name&quot;:&quot;Images&quot;,&quot;link&quot;:&quot;/msl/multimedia/images&quot;,&quot;current&quot;:false,&quot;target&quot;:&quot;_self&quot;},{&quot;name&quot;:&quot;Videos&quot;,&quot;link&quot;:&quot;/msl/multimedia/videos&quot;,&quot;current&quot;:false,&quot;target&quot;:&quot;_self&quot;},{&quot;name&quot;:&quot;Panoramas&quot;,&quot;link&quot;:&quot;/msl/multimedia/panoramas&quot;,&quot;current&quot;:false,&quot;target&quot;:&quot;_self&quot;},{&quot;name&quot;:&quot;Mosaics&quot;,&quot;link&quot;:&quot;/msl/multimedia/mosaics&quot;,&quot;current&quot;:false,&quot;target&quot;:&quot;_self&quot;},{&quot;name&quot;:&quot;Webcasts&quot;,&quot;link&quot;:&quot;/msl/multimedia/webcasts&quot;,&quot;current&quot;:false,&quot;target&quot;:&quot;_self&quot;}]},{&quot;name&quot;:&quot;Participate&quot;,&quot;link&quot;:&quot;/msl/participate/summary&quot;,&quot;current&quot;:false,&quot;target&quot;:&quot;_self&quot;,&quot;items&quot;:[{&quot;name&quot;:&quot;Summary&quot;,&quot;link&quot;:&quot;/msl/participate/summary&quot;,&quot;current&quot;:false,&quot;target&quot;:&quot;_self&quot;},{&quot;name&quot;:&quot;Send Your Name to Mars&quot;,&quot;link&quot;:&quot;/msl/participate/send-your-name/about&quot;,&quot;current&quot;:false,&quot;target&quot;:&quot;_self&quot;}]}]},&quot;has_feature&quot;:true}\" data-react-cache-id=\"MegasectionNav-0\" class=\"secondary_megasection_nav\"></div>\\n<div class=\\'grid_list_page module content_page\\'>\\n<div class=\\'grid_layout\\'>\\n<article>\\n<header id=\\'page_header\\'>\\n<div class=\\'category_title\\'>\\n<span class=\\'crumb\\'>\\n<a href=\"/msl/multimedia/images\">Multimedia</a>\\n</span>\\n\\n</div>\\n</header>\\n<p><span><section class=\\'content_page module\\'>\\n<div data-react-class=\"RawImages\" data-react-props=\"{&quot;url&quot;:&quot;/msl/multimedia/raw-images&quot;,&quot;max_download&quot;:50,&quot;header_missions&quot;:[],&quot;filters&quot;:[{&quot;name&quot;:&quot;all&quot;,&quot;extended_default&quot;:&quot;thumbnail::sample_type::noteq&quot;,&quot;sections&quot;:[]},{&quot;name&quot;:&quot;msl&quot;,&quot;extended_default&quot;:&quot;thumbnail::sample_type::noteq&quot;,&quot;sections&quot;:[{&quot;name&quot;:&quot;Engineering Cameras&quot;,&quot;checkboxes&quot;:[{&quot;label&quot;:&quot;Front Hazard Avoidance Cameras (Front Hazcam)&quot;,&quot;value&quot;:&quot;FHAZ_RIGHT_A|FHAZ_LEFT_A|FHAZ_RIGHT_B|FHAZ_LEFT_B&quot;},{&quot;label&quot;:&quot;Rear Hazard Avoidance Cameras (Rear Hazcam)&quot;,&quot;value&quot;:&quot;RHAZ_RIGHT_A|RHAZ_LEFT_A|RHAZ_RIGHT_B|RHAZ_LEFT_B&quot;},{&quot;label&quot;:&quot;Left Navigation Camera&quot;,&quot;value&quot;:&quot;NAV_LEFT_A|NAV_LEFT_B&quot;},{&quot;label&quot;:&quot;Right Navigation Camera&quot;,&quot;value&quot;:&quot;NAV_RIGHT_A|NAV_RIGHT_B&quot;}]},{&quot;name&quot;:&quot;Science Cameras&quot;,&quot;checkboxes&quot;:[{&quot;label&quot;:&quot;Chemistry \\\\u0026 Camera (ChemCam)&quot;,&quot;value&quot;:&quot;CHEMCAM_RMI&quot;},{&quot;label&quot;:&quot;Mars Descent Imager (MARDI)&quot;,&quot;value&quot;:&quot;MARDI&quot;},{&quot;label&quot;:&quot;Mars Hand Lens Imager (MAHLI)&quot;,&quot;value&quot;:&quot;MAHLI&quot;},{&quot;label&quot;:&quot;Mast Camera (Mastcam)&quot;,&quot;value&quot;:&quot;MAST_LEFT|MAST_RIGHT&quot;}]},{&quot;name&quot;:&quot;Product Type&quot;,&quot;field&quot;:&quot;extended&quot;,&quot;checkboxes&quot;:[{&quot;label&quot;:&quot;Full Data Product&quot;,&quot;value&quot;:&quot;full::sample_type&quot;},{&quot;label&quot;:&quot;Subframe Data Product&quot;,&quot;value&quot;:&quot;subframe::sample_type&quot;},{&quot;label&quot;:&quot;Enhanced Data Product&quot;,&quot;value&quot;:&quot;chemcam+prc::sample_type&quot;},{&quot;label&quot;:&quot;Mixed Data Product&quot;,&quot;value&quot;:&quot;mixed::sample_type&quot;},{&quot;label&quot;:&quot;Downsampled Data Product&quot;,&quot;value&quot;:&quot;downsampled::sample_type&quot;},{&quot;label&quot;:&quot;Image Data Product&quot;,&quot;value&quot;:&quot;%product_category:image%::filter_name::ilike&quot;},{&quot;label&quot;:&quot;Focus Merge Data Product&quot;,&quot;value&quot;:&quot;%product_category:focus_merge%::filter_name::ilike&quot;}]},{&quot;name&quot;:&quot;Thumbnails&quot;,&quot;super_title&quot;:&quot;Advanced Filters&quot;,&quot;about_text&quot;:&quot;Thumbnails are reduced-resolution versions of the original full-size or subframe images, occasionally used by the mission team to prioritize downlinks of the larger images.&quot;,&quot;field&quot;:&quot;extended&quot;,&quot;checkboxes&quot;:[{&quot;label&quot;:&quot;Show Thumbnails&quot;,&quot;value&quot;:&quot;thumbnail::sample_type&quot;}]}]},{&quot;name&quot;:&quot;mera&quot;,&quot;sections&quot;:[{&quot;name&quot;:&quot;Engineering Cameras&quot;,&quot;checkboxes&quot;:[{&quot;label&quot;:&quot;Front Hazcam&quot;,&quot;value&quot;:&quot;fcam&quot;},{&quot;label&quot;:&quot;Rear Hazcam&quot;,&quot;value&quot;:&quot;rcam&quot;},{&quot;label&quot;:&quot;Navigation Camera&quot;,&quot;value&quot;:&quot;ncam&quot;}]},{&quot;name&quot;:&quot;Science Cameras&quot;,&quot;checkboxes&quot;:[{&quot;label&quot;:&quot;Panoramic Camera&quot;,&quot;value&quot;:&quot;pcam&quot;},{&quot;label&quot;:&quot;Microscopic Imager&quot;,&quot;value&quot;:&quot;mi&quot;}]},{&quot;name&quot;:&quot;Other&quot;,&quot;checkboxes&quot;:[{&quot;label&quot;:&quot;Entry, Descent \\\\u0026 Landing&quot;,&quot;value&quot;:&quot;edl&quot;}]}]},{&quot;name&quot;:&quot;merb&quot;,&quot;sections&quot;:[{&quot;name&quot;:&quot;Engineering Cameras&quot;,&quot;checkboxes&quot;:[{&quot;label&quot;:&quot;Front Hazcam&quot;,&quot;value&quot;:&quot;fcam&quot;},{&quot;label&quot;:&quot;Rear Hazcam&quot;,&quot;value&quot;:&quot;rcam&quot;},{&quot;label&quot;:&quot;Navigation Camera&quot;,&quot;value&quot;:&quot;ncam&quot;}]},{&quot;name&quot;:&quot;Science Cameras&quot;,&quot;checkboxes&quot;:[{&quot;label&quot;:&quot;Panoramic Camera&quot;,&quot;value&quot;:&quot;pcam&quot;},{&quot;label&quot;:&quot;Microscopic Imager&quot;,&quot;value&quot;:&quot;mi&quot;}]},{&quot;name&quot;:&quot;Other&quot;,&quot;checkboxes&quot;:[{&quot;label&quot;:&quot;Entry, Descent \\\\u0026 Landing&quot;,&quot;value&quot;:&quot;edl&quot;}]}]},{&quot;name&quot;:&quot;insight&quot;,&quot;sections&quot;:[{&quot;name&quot;:&quot;Cameras&quot;,&quot;checkboxes&quot;:[{&quot;label&quot;:&quot;Instrument Deployment Camera (IDC)&quot;,&quot;value&quot;:&quot;idc&quot;},{&quot;label&quot;:&quot;Instrument Context Camera (ICC)&quot;,&quot;value&quot;:&quot;icc&quot;}]}]}],&quot;mission&quot;:&quot;msl&quot;,&quot;header_counts&quot;:{&quot;total&quot;:705092,&quot;latest&quot;:&quot;2020-08-17T18:00:38Z&quot;,&quot;new_count&quot;:357,&quot;latest_sols&quot;:[2850,2852,2853,2854],&quot;latest_sol&quot;:2854,&quot;sol_count&quot;:66}}\" data-react-cache-id=\"RawImages-0\" class=\"raw_image_gallery\"></div>\\n</section></span></p>\\n\\n</article>\\n</div>\\n</div>\\n\\n\\n</div>\\n<footer id=\\'site_footer\\'>\\n<div class=\\'grid_layout\\'>\\n<section class=\\'upper_footer\\'>\\n<div class=\\'share_newsletter_container\\'>\\n<div class=\\'newsletter\\'>\\n<h2>Get the Mars Newsletter</h2>\\n<form action=\\'/newsletter-subscribe\\'>\\n<input type=\"email\" name=\"email\" id=\"email\" value=\"\" placeholder=\"enter email address\" />\\n<input type=\"submit\" name=\"commit\" value=\"\" data-disable-with=\"\" />\\n</form>\\n</div>\\n<div class=\\'share\\'>\\n<h2>Follow Curiosity</h2>\\n<div class=\\'msl social_icons\\'>\\n<!-- AddThis Button BEGIN -->\\n<div class=\\'addthis_toolbox addthis_default_style addthis_32x32_style\\'><a addthis:userid=\\'MarsCuriosity\\' class=\\'addthis_button_twitter_follow icon\\'>\\n<img alt=\\'twitter\\' src=\\'/assets/twitter_icon@2x.png\\'>\\n</a><a addthis:userid=\\'MarsCuriosity\\' class=\\'addthis_button_facebook_follow icon\\'>\\n<img alt=\\'facebook\\' src=\\'/assets/facebook_icon@2x.png\\'>\\n</a></div>\\n</div>\\n<script src=\"//s7.addthis.com/js/300/addthis_widget.js#pubid=ra-5a690e4c1320e328\"></script>\\n\\n</div>\\n</div>\\n</section>\\n<section class=\\'sitemap\\'>\\n<div class=\\'gradient_line\\'></div>\\n<div class=\\'msl_sitemap_title\\'>\\nMars Curiosity Rover\\n</div>\\n<div class=\\'sitemap_directory\\' id=\\'sitemap_directory_msl\\'>\\n<div class=\\'sitemap_block\\'>\\n<div class=\\'footer_sitemap_item\\'>\\n<h3 class=\\'sitemap_title\\'>\\n<a href=\"/msl/home\">Home</a>\\n</h3>\\n<ul><li class=\\'current\\'>\\n<div class=\\'global_subnav_container\\'>\\n<ul class=\\'subnav\\'>\\n\\n</ul>\\n</div>\\n</li></ul>\\n</div>\\n</div>\\n<div class=\\'sitemap_block\\'>\\n<div class=\\'footer_sitemap_item\\'>\\n<h3 class=\\'sitemap_title\\'>\\n<a href=\"/msl/mission/overview\">Mission</a>\\n</h3>\\n<ul><li class=\\'current\\'>\\n<div class=\\'global_subnav_container\\'>\\n<ul class=\\'subnav\\'>\\n<li>\\n<a href=\\'/msl/mission/overview\\' target=\\'_self\\'>Overview</a>\\n</li>\\n<li>\\n<a href=\\'/msl/mission/science/summary\\' target=\\'_self\\'>Science</a>\\n</li>\\n<li>\\n<a href=\\'/msl/mission/communications\\' target=\\'_self\\'>Communications with Earth</a>\\n</li>\\n<li>\\n<a href=\\'/msl/mission/team\\' target=\\'_self\\'>Mission Team</a>\\n</li>\\n<li>\\n<a href=\\'/msl/mission/where-is-the-rover\\' target=\\'_self\\'>Where is Curiosity?</a>\\n</li>\\n<li>\\n<a href=\\'/msl/mission-updates\\' target=\\'_self\\'>Mission Updates</a>\\n</li>\\n\\n</ul>\\n</div>\\n</li></ul>\\n</div>\\n</div>\\n<div class=\\'sitemap_block\\'>\\n<div class=\\'footer_sitemap_item\\'>\\n<h3 class=\\'sitemap_title\\'>\\n<a href=\"/msl/timeline/summary\">Timeline</a>\\n</h3>\\n<ul><li class=\\'current\\'>\\n<div class=\\'global_subnav_container\\'>\\n<ul class=\\'subnav\\'>\\n<li>\\n<a href=\\'/msl/timeline/summary\\' target=\\'_self\\'>Summary</a>\\n</li>\\n<li>\\n<a href=\\'/msl/timeline/prelaunch/summary/\\' target=\\'_self\\'>Pre-Launch</a>\\n</li>\\n<li>\\n<a href=\\'/msl/timeline/launch/summary\\' target=\\'_self\\'>Launch</a>\\n</li>\\n<li>\\n<a href=\\'/msl/timeline/cruise\\' target=\\'_self\\'>Cruise</a>\\n</li>\\n<li>\\n<a href=\\'/msl/timeline/approach\\' target=\\'_self\\'>Approach</a>\\n</li>\\n<li>\\n<a href=\\'/msl/timeline/edl\\' target=\\'_self\\'>Entry, Descent, and Landing</a>\\n</li>\\n<li>\\n<a href=\\'/msl/timeline/surface-operations\\' target=\\'_self\\'>Surface Operations</a>\\n</li>\\n\\n</ul>\\n</div>\\n</li></ul>\\n</div>\\n</div>\\n<div class=\\'sitemap_block\\'>\\n<div class=\\'footer_sitemap_item\\'>\\n<h3 class=\\'sitemap_title\\'>\\n<a href=\"/msl/spacecraft/rover/\">Spacecraft</a>\\n</h3>\\n<ul><li class=\\'current\\'>\\n<div class=\\'global_subnav_container\\'>\\n<ul class=\\'subnav\\'>\\n<li>\\n<a href=\\'/msl/spacecraft/rover/summary\\' target=\\'_self\\'>Rover</a>\\n</li>\\n<li>\\n<a href=\\'/msl/spacecraft/instruments/summary\\' target=\\'_self\\'>Instruments</a>\\n</li>\\n<li>\\n<a href=\\'/msl/spacecraft/launch-vehicle/summary\\' target=\\'_self\\'>Launch Vehicle</a>\\n</li>\\n<li>\\n<a href=\\'/msl/spacecraft/getting-to-mars\\' target=\\'_self\\'>Getting to Mars</a>\\n</li>\\n\\n</ul>\\n</div>\\n</li></ul>\\n</div>\\n</div>\\n<div class=\\'sitemap_block\\'>\\n<div class=\\'footer_sitemap_item\\'>\\n<h3 class=\\'sitemap_title\\'>\\n<a href=\"/msl/news\">News</a>\\n</h3>\\n<ul><li class=\\'current\\'>\\n<div class=\\'global_subnav_container\\'>\\n<ul class=\\'subnav\\'>\\n<li>\\n<a href=\\'/msl/news\\' target=\\'_self\\'>What\\'s New</a>\\n</li>\\n<li>\\n<a href=\\'/msl/news/newsroom\\' target=\\'_self\\'>Newsroom</a>\\n</li>\\n\\n</ul>\\n</div>\\n</li></ul>\\n</div>\\n</div>\\n<div class=\\'sitemap_block\\'>\\n<div class=\\'footer_sitemap_item\\'>\\n<h3 class=\\'sitemap_title\\'>\\n<a href=\"/msl/multimedia/images\">Multimedia</a>\\n</h3>\\n<ul><li class=\\'current\\'>\\n<div class=\\'global_subnav_container\\'>\\n<ul class=\\'subnav\\'>\\n<li>\\n<a href=\\'/msl/multimedia/raw-images\\' target=\\'_self\\'>Raw Images</a>\\n</li>\\n<li>\\n<a href=\\'/msl/multimedia/images\\' target=\\'_self\\'>Images</a>\\n</li>\\n<li>\\n<a href=\\'/msl/multimedia/videos\\' target=\\'_self\\'>Videos</a>\\n</li>\\n<li>\\n<a href=\\'/msl/multimedia/panoramas\\' target=\\'_self\\'>Panoramas</a>\\n</li>\\n<li>\\n<a href=\\'/msl/multimedia/mosaics\\' target=\\'_self\\'>Mosaics</a>\\n</li>\\n<li>\\n<a href=\\'/msl/multimedia/webcasts\\' target=\\'_self\\'>Webcasts</a>\\n</li>\\n\\n</ul>\\n</div>\\n</li></ul>\\n</div>\\n</div>\\n<div class=\\'sitemap_block\\'>\\n<div class=\\'footer_sitemap_item\\'>\\n<h3 class=\\'sitemap_title\\'>\\n<a href=\"/msl/participate/summary\">Participate</a>\\n</h3>\\n<ul><li class=\\'current\\'>\\n<div class=\\'global_subnav_container\\'>\\n<ul class=\\'subnav\\'>\\n<li>\\n<a href=\\'/msl/participate/summary\\' target=\\'_self\\'>Summary</a>\\n</li>\\n<li>\\n<a href=\\'/msl/participate/send-your-name/about\\' target=\\'_self\\'>Send Your Name to Mars</a>\\n</li>\\n\\n</ul>\\n</div>\\n</li></ul>\\n</div>\\n</div>\\n\\n</div>\\n<div class=\\'gradient_line\\'></div>\\n</section>\\n<section class=\\'lower_footer\\'>\\n<div class=\\'nav_container\\'>\\n<nav>\\n<ul>\\n<li>\\n<a href=\\'http://science.nasa.gov/\\' target=\\'_blank\\'>NASA Science Mission Directorate</a>\\n</li>\\n<li>\\n<a href=\\'https://www.jpl.nasa.gov/copyrights.php\\' target=\\'_blank\\'>Privacy</a>\\n</li>\\n<li>\\n<a href=\\'http://www.jpl.nasa.gov/imagepolicy/\\' target=\\'_blank\\'>Image Policy</a>\\n</li>\\n<li>\\n<a href=\\'https://mars.nasa.gov/feedback/\\' target=\\'_self\\'>Feedback</a>\\n</li>\\n\\n</ul>\\n</nav>\\n</div>\\n<div class=\\'credits\\'>\\n<div class=\\'footer_brands_top\\'>\\n<p>Managed by the Mars Exploration Program and the Jet Propulsion Laboratory for NASA’s Science Mission Directorate</p>\\n</div>\\n<!-- .footer_brands -->\\n<!-- %a.jpl{href: \"\", target: \"_blank\"}Institution -->\\n<!--  -->\\n<!-- %a.caltech{href: \"\", target: \"_blank\"}Institution -->\\n<!-- .staff -->\\n<!-- %p -->\\n<!-- - get_staff_for_category(get_field_from_admin_config(:web_staff_category_id)) -->\\n<!-- - @staff.each_with_index do |staff, idx| -->\\n<!-- - unless staff.is_in_footer == 0 -->\\n<!-- = staff.title + \": \" -->\\n<!-- - if staff.contact_link =~ /@/ -->\\n<!-- = mail_to staff.contact_link, staff.name, :subject => \"[#{@site_title}]\" -->\\n<!-- - elsif staff.contact_link.present? -->\\n<!-- = link_to staff.name, staff.contact_link -->\\n<!-- - else -->\\n<!-- = staff.name -->\\n<!-- - unless (idx + 1 == @staff.size) -->\\n<!-- %br -->\\n</div>\\n</section>\\n</div>\\n</footer>\\n\\n</div>\\n</div>\\n<script id=\"_fed_an_ua_tag\" src=\"https://dap.digitalgov.gov/Universal-Federated-Analytics-Min.js?agency=NASA&subagency=JPL-Mars-MEPJPL&pua=UA-9453474-9,UA-118212757-11&dclink=true&sp=searchbox&exts=tif,tiff,wav\" type=\\'text/javascript\\'></script>\\n\\n\\n</body>\\n</html>\\n'"
      ]
     },
     "execution_count": 15,
     "metadata": {},
     "output_type": "execute_result"
    }
   ],
   "source": [
    "images.text"
   ]
  },
  {
   "cell_type": "markdown",
   "metadata": {},
   "source": [
    "**Requests:**   \n",
    "- GET & POST requests, form data, and file uploads\n",
    "- Redirection history\n",
    "- cookies\n",
    "- Persistent sessions\n",
    "- SSL connections and proxies\n",
    "- authorizations"
   ]
  },
  {
   "cell_type": "code",
   "execution_count": null,
   "metadata": {},
   "outputs": [],
   "source": []
  }
 ],
 "metadata": {
  "anaconda-cloud": {},
  "kernelspec": {
   "display_name": "Python 3",
   "language": "python",
   "name": "python3"
  },
  "language_info": {
   "codemirror_mode": {
    "name": "ipython",
    "version": 3
   },
   "file_extension": ".py",
   "mimetype": "text/x-python",
   "name": "python",
   "nbconvert_exporter": "python",
   "pygments_lexer": "ipython3",
   "version": "3.6.10"
  }
 },
 "nbformat": 4,
 "nbformat_minor": 1
}
